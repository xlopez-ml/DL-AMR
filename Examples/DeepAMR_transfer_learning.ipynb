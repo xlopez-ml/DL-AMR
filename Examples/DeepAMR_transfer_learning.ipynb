{
  "nbformat": 4,
  "nbformat_minor": 0,
  "metadata": {
    "colab": {
      "provenance": [],
      "authorship_tag": "ABX9TyM9UIgFU3X1GhW3eT4DupDR",
      "include_colab_link": true
    },
    "kernelspec": {
      "name": "python3",
      "display_name": "Python 3"
    },
    "language_info": {
      "name": "python"
    }
  },
  "cells": [
    {
      "cell_type": "markdown",
      "metadata": {
        "id": "view-in-github",
        "colab_type": "text"
      },
      "source": [
        "<a href=\"https://colab.research.google.com/github/xlopez-ml/DL-AMR/blob/master/Examples/DeepAMR_transfer_learning.ipynb\" target=\"_parent\"><img src=\"https://colab.research.google.com/assets/colab-badge.svg\" alt=\"Open In Colab\"/></a>"
      ]
    },
    {
      "cell_type": "markdown",
      "source": [
        "#0-Libraries"
      ],
      "metadata": {
        "id": "hC6Bi5PQbLoe"
      }
    },
    {
      "cell_type": "code",
      "source": [],
      "metadata": {
        "id": "Hvw2Sm4ibLX_"
      },
      "execution_count": null,
      "outputs": []
    },
    {
      "cell_type": "markdown",
      "source": [
        "#1-Load Data and Model"
      ],
      "metadata": {
        "id": "cXy5x9_WbL9m"
      }
    },
    {
      "cell_type": "code",
      "execution_count": null,
      "metadata": {
        "id": "37wr2iI1g7YO"
      },
      "outputs": [],
      "source": []
    },
    {
      "cell_type": "code",
      "source": [],
      "metadata": {
        "id": "wYQ1O33ri8yV"
      },
      "execution_count": null,
      "outputs": []
    },
    {
      "cell_type": "markdown",
      "source": [
        "#2-Training model with only external data "
      ],
      "metadata": {
        "id": "CntIOhNkbMZG"
      }
    },
    {
      "cell_type": "code",
      "source": [],
      "metadata": {
        "id": "T1vdf-vCbMtO"
      },
      "execution_count": null,
      "outputs": []
    },
    {
      "cell_type": "code",
      "source": [],
      "metadata": {
        "id": "uAEobDuui8hl"
      },
      "execution_count": null,
      "outputs": []
    },
    {
      "cell_type": "markdown",
      "source": [
        "#3-Test external data on DRIAMS-A pretrained model "
      ],
      "metadata": {
        "id": "77Z8bpWycZ3e"
      }
    },
    {
      "cell_type": "code",
      "source": [],
      "metadata": {
        "id": "fCZ2COBRbNEG"
      },
      "execution_count": null,
      "outputs": []
    },
    {
      "cell_type": "code",
      "source": [],
      "metadata": {
        "id": "DY3CtWz4i8Ot"
      },
      "execution_count": null,
      "outputs": []
    },
    {
      "cell_type": "markdown",
      "source": [
        "#4-Test external data applying transfer learning, freezing convolutional layers."
      ],
      "metadata": {
        "id": "Zm2aOFm1ctDe"
      }
    },
    {
      "cell_type": "code",
      "source": [],
      "metadata": {
        "id": "1Iv_XnuBbNiH"
      },
      "execution_count": null,
      "outputs": []
    },
    {
      "cell_type": "code",
      "source": [],
      "metadata": {
        "id": "dTIvrDNdi74d"
      },
      "execution_count": null,
      "outputs": []
    },
    {
      "cell_type": "markdown",
      "source": [
        "#5-Test external data applying transfer learning, retraining all layers."
      ],
      "metadata": {
        "id": "RIN9Ocg8bNb2"
      }
    },
    {
      "cell_type": "code",
      "source": [],
      "metadata": {
        "id": "b5tXRKeriLFm"
      },
      "execution_count": null,
      "outputs": []
    },
    {
      "cell_type": "code",
      "source": [],
      "metadata": {
        "id": "Ulqc6Aw3i7bt"
      },
      "execution_count": null,
      "outputs": []
    }
  ]
}