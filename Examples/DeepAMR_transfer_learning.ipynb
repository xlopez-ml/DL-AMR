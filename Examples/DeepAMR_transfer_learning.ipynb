{
  "nbformat": 4,
  "nbformat_minor": 0,
  "metadata": {
    "colab": {
      "provenance": [],
      "authorship_tag": "ABX9TyPqaNk9N/dPmCrLF2BPMYJ/",
      "include_colab_link": true
    },
    "kernelspec": {
      "name": "python3",
      "display_name": "Python 3"
    },
    "language_info": {
      "name": "python"
    }
  },
  "cells": [
    {
      "cell_type": "markdown",
      "metadata": {
        "id": "view-in-github",
        "colab_type": "text"
      },
      "source": [
        "<a href=\"https://colab.research.google.com/github/xlopez-ml/DL-AMR/blob/master/Examples/DeepAMR_transfer_learning.ipynb\" target=\"_parent\"><img src=\"https://colab.research.google.com/assets/colab-badge.svg\" alt=\"Open In Colab\"/></a>"
      ]
    },
    {
      "cell_type": "markdown",
      "source": [
        "#0-Libraries"
      ],
      "metadata": {
        "id": "hC6Bi5PQbLoe"
      }
    },
    {
      "cell_type": "code",
      "source": [
        "import numpy as np\n",
        "import matplotlib as mpl\n",
        "import matplotlib.pyplot as plt\n",
        "import itertools\n",
        "import pandas as pd\n",
        "from sklearn.model_selection import train_test_split\n",
        "import sklearn\n",
        "from sklearn.model_selection import StratifiedKFold\n",
        "from sklearn.metrics import confusion_matrix,classification_report,ConfusionMatrixDisplay,matthews_corrcoef\n",
        "from sklearn.preprocessing import Normalizer\n",
        "from sklearn.compose import ColumnTransformer\n",
        "import tensorflow as tf\n",
        "from tensorflow import keras\n",
        "from keras import regularizers\n",
        "from keras.backend import expand_dims\n",
        "from keras.models import load_model\n",
        "from keras.optimizers import Adam\n",
        "from keras.callbacks import ReduceLROnPlateau, EarlyStopping\n",
        "from keras.models import Sequential\n",
        "from keras.constraints import MaxNorm\n",
        "from keras.layers import Activation, Dense, Conv1D, Flatten, MaxPooling1D, Dropout, BatchNormalization\n",
        "\n",
        "METRICS = [\n",
        "      keras.metrics.TruePositives(name='tp'),\n",
        "      keras.metrics.FalsePositives(name='fp'),\n",
        "      keras.metrics.TrueNegatives(name='tn'),\n",
        "      keras.metrics.FalseNegatives(name='fn'), \n",
        "      keras.metrics.BinaryAccuracy(name='accuracy'),\n",
        "      keras.metrics.Precision(name='precision'),\n",
        "      keras.metrics.Recall(name='recall'),\n",
        "      keras.metrics.AUC(name='auc'),\n",
        "      keras.metrics.AUC(name='prc', curve='PR'), # precision-recall curve\n",
        "]"
      ],
      "metadata": {
        "id": "Hvw2Sm4ibLX_"
      },
      "execution_count": 11,
      "outputs": []
    },
    {
      "cell_type": "markdown",
      "source": [
        "#1-Load Data and Model"
      ],
      "metadata": {
        "id": "cXy5x9_WbL9m"
      }
    },
    {
      "cell_type": "code",
      "execution_count": 3,
      "metadata": {
        "id": "37wr2iI1g7YO",
        "colab": {
          "base_uri": "https://localhost:8080/"
        },
        "outputId": "3cfbd135-8ccf-460e-feef-93731a2a1a4a"
      },
      "outputs": [
        {
          "output_type": "stream",
          "name": "stdout",
          "text": [
            "Mounted at /content/drive\n"
          ]
        }
      ],
      "source": [
        "from google.colab import drive\n",
        "drive.mount('/content/drive')"
      ]
    },
    {
      "cell_type": "code",
      "source": [
        "model = load_model('/content/drive/MyDrive/Colab Notebooks/DRIAMS/s_aureus_oxacillin.h5')\n",
        "model.summary()"
      ],
      "metadata": {
        "colab": {
          "base_uri": "https://localhost:8080/"
        },
        "id": "wYQ1O33ri8yV",
        "outputId": "c0cb1e97-20c4-4726-aec4-6c1974f26aa5"
      },
      "execution_count": 8,
      "outputs": [
        {
          "output_type": "stream",
          "name": "stdout",
          "text": [
            "Model: \"Modelo_s_aureus_oxacillin\"\n",
            "_________________________________________________________________\n",
            " Layer (type)                Output Shape              Param #   \n",
            "=================================================================\n",
            " Conv_1 (Conv1D)             (None, 5985, 64)          1152      \n",
            "                                                                 \n",
            " batch_normalization_8 (Batc  (None, 5985, 64)         256       \n",
            " hNormalization)                                                 \n",
            "                                                                 \n",
            " activation_8 (Activation)   (None, 5985, 64)          0         \n",
            "                                                                 \n",
            " MaxPooling1D (MaxPooling1D)  (None, 2992, 64)         0         \n",
            "                                                                 \n",
            " Conv_2 (Conv1D)             (None, 2984, 128)         73856     \n",
            "                                                                 \n",
            " batch_normalization_9 (Batc  (None, 2984, 128)        512       \n",
            " hNormalization)                                                 \n",
            "                                                                 \n",
            " activation_9 (Activation)   (None, 2984, 128)         0         \n",
            "                                                                 \n",
            " MaxPooling1D1 (MaxPooling1D  (None, 1492, 128)        0         \n",
            " )                                                               \n",
            "                                                                 \n",
            " Conv_3 (Conv1D)             (None, 1488, 256)         164096    \n",
            "                                                                 \n",
            " batch_normalization_10 (Bat  (None, 1488, 256)        1024      \n",
            " chNormalization)                                                \n",
            "                                                                 \n",
            " activation_10 (Activation)  (None, 1488, 256)         0         \n",
            "                                                                 \n",
            " MaxPooling1D2 (MaxPooling1D  (None, 744, 256)         0         \n",
            " )                                                               \n",
            "                                                                 \n",
            " Conv_3l (Conv1D)            (None, 740, 256)          327936    \n",
            "                                                                 \n",
            " batch_normalization_11 (Bat  (None, 740, 256)         1024      \n",
            " chNormalization)                                                \n",
            "                                                                 \n",
            " activation_11 (Activation)  (None, 740, 256)          0         \n",
            "                                                                 \n",
            " MaxPooling1D2dl (MaxPooling  (None, 370, 256)         0         \n",
            " 1D)                                                             \n",
            "                                                                 \n",
            " flatten_2 (Flatten)         (None, 94720)             0         \n",
            "                                                                 \n",
            " dropout_2 (Dropout)         (None, 94720)             0         \n",
            "                                                                 \n",
            " fully_connected_0 (Dense)   (None, 256)               24248576  \n",
            "                                                                 \n",
            " fully_connected_1 (Dense)   (None, 64)                16448     \n",
            "                                                                 \n",
            " fully_connected_2 (Dense)   (None, 64)                4160      \n",
            "                                                                 \n",
            " OUT_Layer (Dense)           (None, 1)                 65        \n",
            "                                                                 \n",
            "=================================================================\n",
            "Total params: 24,839,105\n",
            "Trainable params: 24,837,697\n",
            "Non-trainable params: 1,408\n",
            "_________________________________________________________________\n"
          ]
        }
      ]
    },
    {
      "cell_type": "code",
      "source": [],
      "metadata": {
        "id": "4dbCog1UdYut"
      },
      "execution_count": null,
      "outputs": []
    },
    {
      "cell_type": "code",
      "source": [
        "s_aureus_driams_b = pd.read_csv('/content/drive/MyDrive/New driams databae/Datasets Driams con espectro de masa/Driams_b/s_aureus_driams_b_bin3_2000_20000Da.csv')\n",
        "s_aureus_driams_b.head()"
      ],
      "metadata": {
        "id": "ip4vpn7GdYj9",
        "outputId": "9381ef68-ef80-411d-fa4b-1109ddcb2189",
        "colab": {
          "base_uri": "https://localhost:8080/",
          "height": 577
        }
      },
      "execution_count": 9,
      "outputs": [
        {
          "output_type": "execute_result",
          "data": {
            "text/plain": [
              "          2000         2003         2006         2009         2012  \\\n",
              "0  3894.285714  4288.428571  3771.714286  5134.714286  3902.142857   \n",
              "1  7327.714286  7367.000000  9050.714286  9410.285714  8567.571429   \n",
              "2  5981.142857  6145.000000  7768.750000  6982.142857  6709.428571   \n",
              "3  3470.142857  3477.000000  2912.714286  3249.714286  2469.142857   \n",
              "4  1564.625000  1984.857143  1563.000000  1842.000000  1406.714286   \n",
              "\n",
              "          2015         2018         2021         2024         2027  ...  \\\n",
              "0  3062.571429  3026.000000  3078.857143  3751.875000  3582.142857  ...   \n",
              "1  9221.000000  7407.857143  7006.857143  6694.142857  6969.714286  ...   \n",
              "2  6847.857143  5945.285714  5704.428571  6554.250000  6829.000000  ...   \n",
              "3  2462.714286  2484.714286  2528.000000  2918.375000  2667.000000  ...   \n",
              "4  1411.428571  1319.000000  1277.857143  1445.571429  1616.000000  ...   \n",
              "\n",
              "        19991  19994       19997                                  code  \\\n",
              "0   19.666667   18.0   16.200000  379e3abe-c5b2-4f92-8f2f-0c9dd0a2c7b0   \n",
              "1  246.500000  226.0  241.820755  eed06320-c82a-43a2-ad35-139e4e082044   \n",
              "2  178.000000  186.0  189.743590  1b1e94b9-f2cc-42ec-91e1-e5c3bef4adc7   \n",
              "3   74.666667   90.5   96.500000  e6cf028f-0960-4751-9ca6-d94f90e07ae6   \n",
              "4   15.500000   23.5   21.529412  5ea281ba-f7c8-43a7-a17f-43ac77ed7f68   \n",
              "\n",
              "                 species  Oxacillin  Clindamycin  Ceftriaxone  Ciprofloxacin  \\\n",
              "0  Staphylococcus aureus        0.0          0.0          NaN            0.0   \n",
              "1  Staphylococcus aureus        0.0          0.0          NaN            0.0   \n",
              "2  Staphylococcus aureus        0.0          1.0          NaN            0.0   \n",
              "3  Staphylococcus aureus        0.0          0.0          NaN            0.0   \n",
              "4  Staphylococcus aureus        0.0          0.0          NaN            0.0   \n",
              "\n",
              "   Fusidic acid  \n",
              "0           0.0  \n",
              "1           0.0  \n",
              "2           0.0  \n",
              "3           0.0  \n",
              "4           0.0  \n",
              "\n",
              "[5 rows x 6007 columns]"
            ],
            "text/html": [
              "\n",
              "  <div id=\"df-126f0563-7d13-4459-96bd-7f68da37f36a\">\n",
              "    <div class=\"colab-df-container\">\n",
              "      <div>\n",
              "<style scoped>\n",
              "    .dataframe tbody tr th:only-of-type {\n",
              "        vertical-align: middle;\n",
              "    }\n",
              "\n",
              "    .dataframe tbody tr th {\n",
              "        vertical-align: top;\n",
              "    }\n",
              "\n",
              "    .dataframe thead th {\n",
              "        text-align: right;\n",
              "    }\n",
              "</style>\n",
              "<table border=\"1\" class=\"dataframe\">\n",
              "  <thead>\n",
              "    <tr style=\"text-align: right;\">\n",
              "      <th></th>\n",
              "      <th>2000</th>\n",
              "      <th>2003</th>\n",
              "      <th>2006</th>\n",
              "      <th>2009</th>\n",
              "      <th>2012</th>\n",
              "      <th>2015</th>\n",
              "      <th>2018</th>\n",
              "      <th>2021</th>\n",
              "      <th>2024</th>\n",
              "      <th>2027</th>\n",
              "      <th>...</th>\n",
              "      <th>19991</th>\n",
              "      <th>19994</th>\n",
              "      <th>19997</th>\n",
              "      <th>code</th>\n",
              "      <th>species</th>\n",
              "      <th>Oxacillin</th>\n",
              "      <th>Clindamycin</th>\n",
              "      <th>Ceftriaxone</th>\n",
              "      <th>Ciprofloxacin</th>\n",
              "      <th>Fusidic acid</th>\n",
              "    </tr>\n",
              "  </thead>\n",
              "  <tbody>\n",
              "    <tr>\n",
              "      <th>0</th>\n",
              "      <td>3894.285714</td>\n",
              "      <td>4288.428571</td>\n",
              "      <td>3771.714286</td>\n",
              "      <td>5134.714286</td>\n",
              "      <td>3902.142857</td>\n",
              "      <td>3062.571429</td>\n",
              "      <td>3026.000000</td>\n",
              "      <td>3078.857143</td>\n",
              "      <td>3751.875000</td>\n",
              "      <td>3582.142857</td>\n",
              "      <td>...</td>\n",
              "      <td>19.666667</td>\n",
              "      <td>18.0</td>\n",
              "      <td>16.200000</td>\n",
              "      <td>379e3abe-c5b2-4f92-8f2f-0c9dd0a2c7b0</td>\n",
              "      <td>Staphylococcus aureus</td>\n",
              "      <td>0.0</td>\n",
              "      <td>0.0</td>\n",
              "      <td>NaN</td>\n",
              "      <td>0.0</td>\n",
              "      <td>0.0</td>\n",
              "    </tr>\n",
              "    <tr>\n",
              "      <th>1</th>\n",
              "      <td>7327.714286</td>\n",
              "      <td>7367.000000</td>\n",
              "      <td>9050.714286</td>\n",
              "      <td>9410.285714</td>\n",
              "      <td>8567.571429</td>\n",
              "      <td>9221.000000</td>\n",
              "      <td>7407.857143</td>\n",
              "      <td>7006.857143</td>\n",
              "      <td>6694.142857</td>\n",
              "      <td>6969.714286</td>\n",
              "      <td>...</td>\n",
              "      <td>246.500000</td>\n",
              "      <td>226.0</td>\n",
              "      <td>241.820755</td>\n",
              "      <td>eed06320-c82a-43a2-ad35-139e4e082044</td>\n",
              "      <td>Staphylococcus aureus</td>\n",
              "      <td>0.0</td>\n",
              "      <td>0.0</td>\n",
              "      <td>NaN</td>\n",
              "      <td>0.0</td>\n",
              "      <td>0.0</td>\n",
              "    </tr>\n",
              "    <tr>\n",
              "      <th>2</th>\n",
              "      <td>5981.142857</td>\n",
              "      <td>6145.000000</td>\n",
              "      <td>7768.750000</td>\n",
              "      <td>6982.142857</td>\n",
              "      <td>6709.428571</td>\n",
              "      <td>6847.857143</td>\n",
              "      <td>5945.285714</td>\n",
              "      <td>5704.428571</td>\n",
              "      <td>6554.250000</td>\n",
              "      <td>6829.000000</td>\n",
              "      <td>...</td>\n",
              "      <td>178.000000</td>\n",
              "      <td>186.0</td>\n",
              "      <td>189.743590</td>\n",
              "      <td>1b1e94b9-f2cc-42ec-91e1-e5c3bef4adc7</td>\n",
              "      <td>Staphylococcus aureus</td>\n",
              "      <td>0.0</td>\n",
              "      <td>1.0</td>\n",
              "      <td>NaN</td>\n",
              "      <td>0.0</td>\n",
              "      <td>0.0</td>\n",
              "    </tr>\n",
              "    <tr>\n",
              "      <th>3</th>\n",
              "      <td>3470.142857</td>\n",
              "      <td>3477.000000</td>\n",
              "      <td>2912.714286</td>\n",
              "      <td>3249.714286</td>\n",
              "      <td>2469.142857</td>\n",
              "      <td>2462.714286</td>\n",
              "      <td>2484.714286</td>\n",
              "      <td>2528.000000</td>\n",
              "      <td>2918.375000</td>\n",
              "      <td>2667.000000</td>\n",
              "      <td>...</td>\n",
              "      <td>74.666667</td>\n",
              "      <td>90.5</td>\n",
              "      <td>96.500000</td>\n",
              "      <td>e6cf028f-0960-4751-9ca6-d94f90e07ae6</td>\n",
              "      <td>Staphylococcus aureus</td>\n",
              "      <td>0.0</td>\n",
              "      <td>0.0</td>\n",
              "      <td>NaN</td>\n",
              "      <td>0.0</td>\n",
              "      <td>0.0</td>\n",
              "    </tr>\n",
              "    <tr>\n",
              "      <th>4</th>\n",
              "      <td>1564.625000</td>\n",
              "      <td>1984.857143</td>\n",
              "      <td>1563.000000</td>\n",
              "      <td>1842.000000</td>\n",
              "      <td>1406.714286</td>\n",
              "      <td>1411.428571</td>\n",
              "      <td>1319.000000</td>\n",
              "      <td>1277.857143</td>\n",
              "      <td>1445.571429</td>\n",
              "      <td>1616.000000</td>\n",
              "      <td>...</td>\n",
              "      <td>15.500000</td>\n",
              "      <td>23.5</td>\n",
              "      <td>21.529412</td>\n",
              "      <td>5ea281ba-f7c8-43a7-a17f-43ac77ed7f68</td>\n",
              "      <td>Staphylococcus aureus</td>\n",
              "      <td>0.0</td>\n",
              "      <td>0.0</td>\n",
              "      <td>NaN</td>\n",
              "      <td>0.0</td>\n",
              "      <td>0.0</td>\n",
              "    </tr>\n",
              "  </tbody>\n",
              "</table>\n",
              "<p>5 rows × 6007 columns</p>\n",
              "</div>\n",
              "      <button class=\"colab-df-convert\" onclick=\"convertToInteractive('df-126f0563-7d13-4459-96bd-7f68da37f36a')\"\n",
              "              title=\"Convert this dataframe to an interactive table.\"\n",
              "              style=\"display:none;\">\n",
              "        \n",
              "  <svg xmlns=\"http://www.w3.org/2000/svg\" height=\"24px\"viewBox=\"0 0 24 24\"\n",
              "       width=\"24px\">\n",
              "    <path d=\"M0 0h24v24H0V0z\" fill=\"none\"/>\n",
              "    <path d=\"M18.56 5.44l.94 2.06.94-2.06 2.06-.94-2.06-.94-.94-2.06-.94 2.06-2.06.94zm-11 1L8.5 8.5l.94-2.06 2.06-.94-2.06-.94L8.5 2.5l-.94 2.06-2.06.94zm10 10l.94 2.06.94-2.06 2.06-.94-2.06-.94-.94-2.06-.94 2.06-2.06.94z\"/><path d=\"M17.41 7.96l-1.37-1.37c-.4-.4-.92-.59-1.43-.59-.52 0-1.04.2-1.43.59L10.3 9.45l-7.72 7.72c-.78.78-.78 2.05 0 2.83L4 21.41c.39.39.9.59 1.41.59.51 0 1.02-.2 1.41-.59l7.78-7.78 2.81-2.81c.8-.78.8-2.07 0-2.86zM5.41 20L4 18.59l7.72-7.72 1.47 1.35L5.41 20z\"/>\n",
              "  </svg>\n",
              "      </button>\n",
              "      \n",
              "  <style>\n",
              "    .colab-df-container {\n",
              "      display:flex;\n",
              "      flex-wrap:wrap;\n",
              "      gap: 12px;\n",
              "    }\n",
              "\n",
              "    .colab-df-convert {\n",
              "      background-color: #E8F0FE;\n",
              "      border: none;\n",
              "      border-radius: 50%;\n",
              "      cursor: pointer;\n",
              "      display: none;\n",
              "      fill: #1967D2;\n",
              "      height: 32px;\n",
              "      padding: 0 0 0 0;\n",
              "      width: 32px;\n",
              "    }\n",
              "\n",
              "    .colab-df-convert:hover {\n",
              "      background-color: #E2EBFA;\n",
              "      box-shadow: 0px 1px 2px rgba(60, 64, 67, 0.3), 0px 1px 3px 1px rgba(60, 64, 67, 0.15);\n",
              "      fill: #174EA6;\n",
              "    }\n",
              "\n",
              "    [theme=dark] .colab-df-convert {\n",
              "      background-color: #3B4455;\n",
              "      fill: #D2E3FC;\n",
              "    }\n",
              "\n",
              "    [theme=dark] .colab-df-convert:hover {\n",
              "      background-color: #434B5C;\n",
              "      box-shadow: 0px 1px 3px 1px rgba(0, 0, 0, 0.15);\n",
              "      filter: drop-shadow(0px 1px 2px rgba(0, 0, 0, 0.3));\n",
              "      fill: #FFFFFF;\n",
              "    }\n",
              "  </style>\n",
              "\n",
              "      <script>\n",
              "        const buttonEl =\n",
              "          document.querySelector('#df-126f0563-7d13-4459-96bd-7f68da37f36a button.colab-df-convert');\n",
              "        buttonEl.style.display =\n",
              "          google.colab.kernel.accessAllowed ? 'block' : 'none';\n",
              "\n",
              "        async function convertToInteractive(key) {\n",
              "          const element = document.querySelector('#df-126f0563-7d13-4459-96bd-7f68da37f36a');\n",
              "          const dataTable =\n",
              "            await google.colab.kernel.invokeFunction('convertToInteractive',\n",
              "                                                     [key], {});\n",
              "          if (!dataTable) return;\n",
              "\n",
              "          const docLinkHtml = 'Like what you see? Visit the ' +\n",
              "            '<a target=\"_blank\" href=https://colab.research.google.com/notebooks/data_table.ipynb>data table notebook</a>'\n",
              "            + ' to learn more about interactive tables.';\n",
              "          element.innerHTML = '';\n",
              "          dataTable['output_type'] = 'display_data';\n",
              "          await google.colab.output.renderOutput(dataTable, element);\n",
              "          const docLink = document.createElement('div');\n",
              "          docLink.innerHTML = docLinkHtml;\n",
              "          element.appendChild(docLink);\n",
              "        }\n",
              "      </script>\n",
              "    </div>\n",
              "  </div>\n",
              "  "
            ]
          },
          "metadata": {},
          "execution_count": 9
        }
      ]
    },
    {
      "cell_type": "markdown",
      "source": [
        "#2-Training model with only external data "
      ],
      "metadata": {
        "id": "CntIOhNkbMZG"
      }
    },
    {
      "cell_type": "code",
      "source": [
        "s_aureus_oxacillin_driams_b = s_aureus_driams_b.drop(columns=['code','species', 'Clindamycin', 'Ceftriaxone', 'Ciprofloxacin', 'Fusidic acid']) \n",
        "s_aureus_oxacillin_driams_b.dropna(axis=0, how=\"any\", inplace=True)"
      ],
      "metadata": {
        "id": "T1vdf-vCbMtO"
      },
      "execution_count": 10,
      "outputs": []
    },
    {
      "cell_type": "code",
      "source": [
        "X = s_aureus_oxacillin_driams_b.iloc[:, 0:6000].values  # variables independientes (espectros de masa)\n",
        "y = s_aureus_oxacillin_driams_b.iloc[:, 6000].values    # variable dependientes (resistencia a ciprofloxacin)\n",
        "X = np.asarray(X).astype(np.float32)\n",
        "y = np.asarray(y).astype(np.float32)"
      ],
      "metadata": {
        "id": "uAEobDuui8hl"
      },
      "execution_count": 12,
      "outputs": []
    },
    {
      "cell_type": "code",
      "source": [
        "X_train, X_test, y_train, y_test = train_test_split(X, y, test_size = 0.2, random_state = 0, stratify=y)"
      ],
      "metadata": {
        "id": "KJ14pnJbkF4B"
      },
      "execution_count": 13,
      "outputs": []
    },
    {
      "cell_type": "code",
      "source": [
        "scaler=Normalizer(norm='max')\n",
        "sc_X = scaler\n",
        "X_train = sc_X.fit_transform(X_train)\n",
        "X_test = sc_X.transform(X_test)"
      ],
      "metadata": {
        "id": "eY-GryH7kF1x"
      },
      "execution_count": 14,
      "outputs": []
    },
    {
      "cell_type": "code",
      "source": [
        "sample_size = X_train.shape[0] # numero de muestras en el set de datos\n",
        "time_steps  = X_train.shape[1] # numero de atributos en el set de datos\n",
        "input_dimension = 1            #\n",
        "\n",
        "X_train_reshaped = X_train.reshape(sample_size,time_steps,input_dimension)\n",
        "X_test_reshaped = X_test.reshape(X_test.shape[0],X_test.shape[1],1)"
      ],
      "metadata": {
        "id": "d7bxLKcJkFzl"
      },
      "execution_count": 15,
      "outputs": []
    },
    {
      "cell_type": "code",
      "source": [
        "reduce_lr = ReduceLROnPlateau(monitor='val_loss', factor=0.1, patience=3, min_lr=0.000001)\n",
        "early_st = EarlyStopping(monitor='val_loss', patience=4, restore_best_weights=True)\n",
        "\n",
        "n_timesteps = X_train_reshaped.shape[1] #\n",
        "n_features  = X_train_reshaped.shape[2] #"
      ],
      "metadata": {
        "id": "9O3YE58ukuxG"
      },
      "execution_count": 16,
      "outputs": []
    },
    {
      "cell_type": "markdown",
      "source": [
        "## create and fit DeepAMR model"
      ],
      "metadata": {
        "id": "1rOun0zYlMD_"
      }
    },
    {
      "cell_type": "code",
      "source": [
        "model = Sequential(name=\"Modelo_s_aureus_ciprofloxacin\")\n",
        "init_mode = 'normal'\n",
        "model.add(Conv1D(filters=(64), kernel_size=(17), input_shape = (n_timesteps,n_features), name='Conv_1'))\n",
        "model.add(BatchNormalization())\n",
        "model.add(Activation('relu'))\n",
        "model.add(MaxPooling1D(pool_size=2, name=\"MaxPooling1D_1\"))\n",
        "\n",
        "model.add(Conv1D(filters=(128), kernel_size=(9),kernel_initializer=init_mode, kernel_regularizer=regularizers.l2(0.0001),  name='Conv_2'))\n",
        "model.add(BatchNormalization())\n",
        "model.add(Activation('relu'))\n",
        "model.add(MaxPooling1D(pool_size=2, name=\"MaxPooling1D_2\"))\n",
        "\n",
        "model.add(Conv1D(filters=(256), kernel_size=(5),kernel_initializer=init_mode,kernel_regularizer=regularizers.l2(0.0001),   name='Conv_3'))\n",
        "model.add(BatchNormalization())\n",
        "model.add(Activation('relu'))\n",
        "model.add(MaxPooling1D(pool_size=2, name=\"MaxPooling1D_3\"))\n",
        "\n",
        "model.add(Conv1D(filters=(256), kernel_size=(5),kernel_initializer=init_mode, kernel_regularizer=regularizers.l2(0.0001),   name='Conv_4'))\n",
        "model.add(BatchNormalization())\n",
        "model.add(Activation('relu'))\n",
        "model.add(MaxPooling1D(pool_size=2, name=\"MaxPooling1D_4\"))\n",
        "\n",
        "model.add(Flatten())\n",
        "model.add(Dropout(0.65))\n",
        "model.add(Dense(256, activation='relu',kernel_initializer=init_mode, kernel_regularizer=regularizers.l2(0.0001), name=\"fully_connected_0\"))\n",
        "model.add(Dense(64, activation='relu',kernel_initializer=init_mode, kernel_regularizer=regularizers.l2(0.0001), name=\"fully_connected_1\"))\n",
        "model.add(Dense(64, activation='relu',kernel_initializer=init_mode, kernel_regularizer=regularizers.l2(0.0001),  name=\"fully_connected_2\"))\n",
        "model.add(Dense(n_features, activation='sigmoid', name=\"OUT_Layer\"))\n",
        "\n",
        "model.compile(optimizer = Adam(learning_rate=0.0001), loss = 'binary_crossentropy',  metrics=METRICS)\n",
        "model.summary()"
      ],
      "metadata": {
        "id": "DKdQG7ngkuvB"
      },
      "execution_count": null,
      "outputs": []
    },
    {
      "cell_type": "code",
      "source": [
        "history = model.fit(X_train_reshaped, y_train, epochs=100, batch_size=10, verbose=1, validation_split=0.1, callbacks=[reduce_lr,early_st])\n"
      ],
      "metadata": {
        "id": "dxqgEV81kus1",
        "outputId": "d8ac23bd-9573-4962-afef-b1b51afe1a31",
        "colab": {
          "base_uri": "https://localhost:8080/"
        }
      },
      "execution_count": 18,
      "outputs": [
        {
          "output_type": "stream",
          "name": "stdout",
          "text": [
            "Epoch 1/100\n",
            "25/25 [==============================] - 26s 868ms/step - loss: 6.5609 - tp: 0.0000e+00 - fp: 7.0000 - tn: 225.0000 - fn: 16.0000 - accuracy: 0.9073 - precision: 0.0000e+00 - recall: 0.0000e+00 - auc: 0.4689 - prc: 0.0658 - val_loss: 6.5766 - val_tp: 0.0000e+00 - val_fp: 0.0000e+00 - val_tn: 27.0000 - val_fn: 1.0000 - val_accuracy: 0.9643 - val_precision: 0.0000e+00 - val_recall: 0.0000e+00 - val_auc: 0.5370 - val_prc: 0.0385 - lr: 1.0000e-04\n",
            "Epoch 2/100\n",
            "25/25 [==============================] - 22s 862ms/step - loss: 6.2574 - tp: 0.0000e+00 - fp: 0.0000e+00 - tn: 232.0000 - fn: 16.0000 - accuracy: 0.9355 - precision: 0.0000e+00 - recall: 0.0000e+00 - auc: 0.5983 - prc: 0.0839 - val_loss: 6.3503 - val_tp: 0.0000e+00 - val_fp: 0.0000e+00 - val_tn: 27.0000 - val_fn: 1.0000 - val_accuracy: 0.9643 - val_precision: 0.0000e+00 - val_recall: 0.0000e+00 - val_auc: 0.4815 - val_prc: 0.0317 - lr: 1.0000e-04\n",
            "Epoch 3/100\n",
            "25/25 [==============================] - 22s 859ms/step - loss: 6.1715 - tp: 0.0000e+00 - fp: 3.0000 - tn: 229.0000 - fn: 16.0000 - accuracy: 0.9234 - precision: 0.0000e+00 - recall: 0.0000e+00 - auc: 0.5770 - prc: 0.0751 - val_loss: 6.2773 - val_tp: 0.0000e+00 - val_fp: 0.0000e+00 - val_tn: 27.0000 - val_fn: 1.0000 - val_accuracy: 0.9643 - val_precision: 0.0000e+00 - val_recall: 0.0000e+00 - val_auc: 0.5000 - val_prc: 0.0336 - lr: 1.0000e-04\n",
            "Epoch 4/100\n",
            "25/25 [==============================] - 21s 831ms/step - loss: 6.0064 - tp: 1.0000 - fp: 2.0000 - tn: 230.0000 - fn: 15.0000 - accuracy: 0.9315 - precision: 0.3333 - recall: 0.0625 - auc: 0.7484 - prc: 0.2169 - val_loss: 6.2613 - val_tp: 0.0000e+00 - val_fp: 0.0000e+00 - val_tn: 27.0000 - val_fn: 1.0000 - val_accuracy: 0.9643 - val_precision: 0.0000e+00 - val_recall: 0.0000e+00 - val_auc: 0.5185 - val_prc: 0.0335 - lr: 1.0000e-04\n",
            "Epoch 5/100\n",
            "25/25 [==============================] - 21s 831ms/step - loss: 5.9065 - tp: 2.0000 - fp: 3.0000 - tn: 229.0000 - fn: 14.0000 - accuracy: 0.9315 - precision: 0.4000 - recall: 0.1250 - auc: 0.7026 - prc: 0.2552 - val_loss: 5.9264 - val_tp: 0.0000e+00 - val_fp: 0.0000e+00 - val_tn: 27.0000 - val_fn: 1.0000 - val_accuracy: 0.9643 - val_precision: 0.0000e+00 - val_recall: 0.0000e+00 - val_auc: 0.7778 - val_prc: 0.0769 - lr: 1.0000e-04\n",
            "Epoch 6/100\n",
            "25/25 [==============================] - 21s 830ms/step - loss: 5.8177 - tp: 3.0000 - fp: 3.0000 - tn: 229.0000 - fn: 13.0000 - accuracy: 0.9355 - precision: 0.5000 - recall: 0.1875 - auc: 0.6979 - prc: 0.2342 - val_loss: 5.7619 - val_tp: 0.0000e+00 - val_fp: 0.0000e+00 - val_tn: 27.0000 - val_fn: 1.0000 - val_accuracy: 0.9643 - val_precision: 0.0000e+00 - val_recall: 0.0000e+00 - val_auc: 0.8148 - val_prc: 0.0909 - lr: 1.0000e-04\n",
            "Epoch 7/100\n",
            "25/25 [==============================] - 21s 827ms/step - loss: 5.7803 - tp: 1.0000 - fp: 1.0000 - tn: 231.0000 - fn: 15.0000 - accuracy: 0.9355 - precision: 0.5000 - recall: 0.0625 - auc: 0.5836 - prc: 0.1699 - val_loss: 5.7395 - val_tp: 0.0000e+00 - val_fp: 0.0000e+00 - val_tn: 27.0000 - val_fn: 1.0000 - val_accuracy: 0.9643 - val_precision: 0.0000e+00 - val_recall: 0.0000e+00 - val_auc: 0.5741 - val_prc: 0.0374 - lr: 1.0000e-04\n",
            "Epoch 8/100\n",
            "25/25 [==============================] - 20s 814ms/step - loss: 5.6405 - tp: 1.0000 - fp: 0.0000e+00 - tn: 232.0000 - fn: 15.0000 - accuracy: 0.9395 - precision: 1.0000 - recall: 0.0625 - auc: 0.7074 - prc: 0.3278 - val_loss: 5.7878 - val_tp: 0.0000e+00 - val_fp: 0.0000e+00 - val_tn: 27.0000 - val_fn: 1.0000 - val_accuracy: 0.9643 - val_precision: 0.0000e+00 - val_recall: 0.0000e+00 - val_auc: 0.6667 - val_prc: 0.0472 - lr: 1.0000e-04\n",
            "Epoch 9/100\n",
            "25/25 [==============================] - 20s 816ms/step - loss: 5.5165 - tp: 3.0000 - fp: 0.0000e+00 - tn: 232.0000 - fn: 13.0000 - accuracy: 0.9476 - precision: 1.0000 - recall: 0.1875 - auc: 0.8234 - prc: 0.4735 - val_loss: 5.6740 - val_tp: 0.0000e+00 - val_fp: 0.0000e+00 - val_tn: 27.0000 - val_fn: 1.0000 - val_accuracy: 0.9643 - val_precision: 0.0000e+00 - val_recall: 0.0000e+00 - val_auc: 0.7037 - val_prc: 0.0527 - lr: 1.0000e-04\n",
            "Epoch 10/100\n",
            "25/25 [==============================] - 21s 829ms/step - loss: 5.4276 - tp: 5.0000 - fp: 1.0000 - tn: 231.0000 - fn: 11.0000 - accuracy: 0.9516 - precision: 0.8333 - recall: 0.3125 - auc: 0.8768 - prc: 0.4945 - val_loss: 5.5132 - val_tp: 0.0000e+00 - val_fp: 0.0000e+00 - val_tn: 27.0000 - val_fn: 1.0000 - val_accuracy: 0.9643 - val_precision: 0.0000e+00 - val_recall: 0.0000e+00 - val_auc: 0.6296 - val_prc: 0.0432 - lr: 1.0000e-04\n",
            "Epoch 11/100\n",
            "25/25 [==============================] - 20s 819ms/step - loss: 5.3619 - tp: 5.0000 - fp: 3.0000 - tn: 229.0000 - fn: 11.0000 - accuracy: 0.9435 - precision: 0.6250 - recall: 0.3125 - auc: 0.8596 - prc: 0.4695 - val_loss: 5.3944 - val_tp: 0.0000e+00 - val_fp: 0.0000e+00 - val_tn: 27.0000 - val_fn: 1.0000 - val_accuracy: 0.9643 - val_precision: 0.0000e+00 - val_recall: 0.0000e+00 - val_auc: 0.6481 - val_prc: 0.0456 - lr: 1.0000e-04\n",
            "Epoch 12/100\n",
            "25/25 [==============================] - 21s 822ms/step - loss: 5.3093 - tp: 2.0000 - fp: 0.0000e+00 - tn: 232.0000 - fn: 14.0000 - accuracy: 0.9435 - precision: 1.0000 - recall: 0.1250 - auc: 0.7932 - prc: 0.5275 - val_loss: 5.4500 - val_tp: 0.0000e+00 - val_fp: 0.0000e+00 - val_tn: 27.0000 - val_fn: 1.0000 - val_accuracy: 0.9643 - val_precision: 0.0000e+00 - val_recall: 0.0000e+00 - val_auc: 0.6667 - val_prc: 0.0482 - lr: 1.0000e-04\n",
            "Epoch 13/100\n",
            "25/25 [==============================] - 21s 825ms/step - loss: 5.2842 - tp: 3.0000 - fp: 3.0000 - tn: 229.0000 - fn: 13.0000 - accuracy: 0.9355 - precision: 0.5000 - recall: 0.1875 - auc: 0.6845 - prc: 0.3047 - val_loss: 5.3991 - val_tp: 0.0000e+00 - val_fp: 0.0000e+00 - val_tn: 27.0000 - val_fn: 1.0000 - val_accuracy: 0.9643 - val_precision: 0.0000e+00 - val_recall: 0.0000e+00 - val_auc: 0.7222 - val_prc: 0.0584 - lr: 1.0000e-04\n",
            "Epoch 14/100\n",
            "25/25 [==============================] - 21s 823ms/step - loss: 5.1456 - tp: 3.0000 - fp: 1.0000 - tn: 231.0000 - fn: 13.0000 - accuracy: 0.9435 - precision: 0.7500 - recall: 0.1875 - auc: 0.9061 - prc: 0.5104 - val_loss: 5.3262 - val_tp: 0.0000e+00 - val_fp: 0.0000e+00 - val_tn: 27.0000 - val_fn: 1.0000 - val_accuracy: 0.9643 - val_precision: 0.0000e+00 - val_recall: 0.0000e+00 - val_auc: 0.4259 - val_prc: 0.0306 - lr: 1.0000e-04\n",
            "Epoch 15/100\n",
            "25/25 [==============================] - 21s 830ms/step - loss: 5.0960 - tp: 4.0000 - fp: 1.0000 - tn: 231.0000 - fn: 12.0000 - accuracy: 0.9476 - precision: 0.8000 - recall: 0.2500 - auc: 0.8653 - prc: 0.4770 - val_loss: 5.1751 - val_tp: 0.0000e+00 - val_fp: 0.0000e+00 - val_tn: 27.0000 - val_fn: 1.0000 - val_accuracy: 0.9643 - val_precision: 0.0000e+00 - val_recall: 0.0000e+00 - val_auc: 0.5370 - val_prc: 0.0375 - lr: 1.0000e-04\n",
            "Epoch 16/100\n",
            "25/25 [==============================] - 21s 833ms/step - loss: 5.0162 - tp: 5.0000 - fp: 3.0000 - tn: 229.0000 - fn: 11.0000 - accuracy: 0.9435 - precision: 0.6250 - recall: 0.3125 - auc: 0.9247 - prc: 0.5131 - val_loss: 5.1414 - val_tp: 0.0000e+00 - val_fp: 0.0000e+00 - val_tn: 27.0000 - val_fn: 1.0000 - val_accuracy: 0.9643 - val_precision: 0.0000e+00 - val_recall: 0.0000e+00 - val_auc: 0.5741 - val_prc: 0.0397 - lr: 1.0000e-04\n",
            "Epoch 17/100\n",
            "25/25 [==============================] - 21s 826ms/step - loss: 4.9578 - tp: 5.0000 - fp: 2.0000 - tn: 230.0000 - fn: 11.0000 - accuracy: 0.9476 - precision: 0.7143 - recall: 0.3125 - auc: 0.9406 - prc: 0.5292 - val_loss: 5.1464 - val_tp: 0.0000e+00 - val_fp: 0.0000e+00 - val_tn: 27.0000 - val_fn: 1.0000 - val_accuracy: 0.9643 - val_precision: 0.0000e+00 - val_recall: 0.0000e+00 - val_auc: 0.6296 - val_prc: 0.0457 - lr: 1.0000e-04\n",
            "Epoch 18/100\n",
            "25/25 [==============================] - 20s 820ms/step - loss: 4.9323 - tp: 5.0000 - fp: 0.0000e+00 - tn: 232.0000 - fn: 11.0000 - accuracy: 0.9556 - precision: 1.0000 - recall: 0.3125 - auc: 0.7942 - prc: 0.5872 - val_loss: 5.1829 - val_tp: 0.0000e+00 - val_fp: 0.0000e+00 - val_tn: 27.0000 - val_fn: 1.0000 - val_accuracy: 0.9643 - val_precision: 0.0000e+00 - val_recall: 0.0000e+00 - val_auc: 0.5370 - val_prc: 0.0375 - lr: 1.0000e-04\n",
            "Epoch 19/100\n",
            "25/25 [==============================] - 21s 826ms/step - loss: 4.8302 - tp: 5.0000 - fp: 1.0000 - tn: 231.0000 - fn: 11.0000 - accuracy: 0.9516 - precision: 0.8333 - recall: 0.3125 - auc: 0.9336 - prc: 0.5772 - val_loss: 5.2591 - val_tp: 0.0000e+00 - val_fp: 10.0000 - val_tn: 17.0000 - val_fn: 1.0000 - val_accuracy: 0.6071 - val_precision: 0.0000e+00 - val_recall: 0.0000e+00 - val_auc: 0.6481 - val_prc: 0.0485 - lr: 1.0000e-04\n",
            "Epoch 20/100\n",
            "25/25 [==============================] - 21s 827ms/step - loss: 4.7811 - tp: 8.0000 - fp: 2.0000 - tn: 230.0000 - fn: 8.0000 - accuracy: 0.9597 - precision: 0.8000 - recall: 0.5000 - auc: 0.9671 - prc: 0.7525 - val_loss: 5.0947 - val_tp: 0.0000e+00 - val_fp: 3.0000 - val_tn: 24.0000 - val_fn: 1.0000 - val_accuracy: 0.8571 - val_precision: 0.0000e+00 - val_recall: 0.0000e+00 - val_auc: 0.7222 - val_prc: 0.0602 - lr: 1.0000e-05\n",
            "Epoch 21/100\n",
            "25/25 [==============================] - 21s 827ms/step - loss: 4.7793 - tp: 8.0000 - fp: 0.0000e+00 - tn: 232.0000 - fn: 8.0000 - accuracy: 0.9677 - precision: 1.0000 - recall: 0.5000 - auc: 0.9297 - prc: 0.7132 - val_loss: 5.0126 - val_tp: 0.0000e+00 - val_fp: 0.0000e+00 - val_tn: 27.0000 - val_fn: 1.0000 - val_accuracy: 0.9643 - val_precision: 0.0000e+00 - val_recall: 0.0000e+00 - val_auc: 0.7037 - val_prc: 0.0577 - lr: 1.0000e-05\n",
            "Epoch 22/100\n",
            "25/25 [==============================] - 21s 825ms/step - loss: 4.7682 - tp: 5.0000 - fp: 0.0000e+00 - tn: 232.0000 - fn: 11.0000 - accuracy: 0.9556 - precision: 1.0000 - recall: 0.3125 - auc: 0.9580 - prc: 0.7370 - val_loss: 5.0195 - val_tp: 0.0000e+00 - val_fp: 2.0000 - val_tn: 25.0000 - val_fn: 1.0000 - val_accuracy: 0.8929 - val_precision: 0.0000e+00 - val_recall: 0.0000e+00 - val_auc: 0.7037 - val_prc: 0.0577 - lr: 1.0000e-05\n",
            "Epoch 23/100\n",
            "25/25 [==============================] - 20s 819ms/step - loss: 4.7733 - tp: 7.0000 - fp: 1.0000 - tn: 231.0000 - fn: 9.0000 - accuracy: 0.9597 - precision: 0.8750 - recall: 0.4375 - auc: 0.9428 - prc: 0.6633 - val_loss: 4.9591 - val_tp: 0.0000e+00 - val_fp: 1.0000 - val_tn: 26.0000 - val_fn: 1.0000 - val_accuracy: 0.9286 - val_precision: 0.0000e+00 - val_recall: 0.0000e+00 - val_auc: 0.7222 - val_prc: 0.0602 - lr: 1.0000e-05\n",
            "Epoch 24/100\n",
            "25/25 [==============================] - 21s 849ms/step - loss: 4.7806 - tp: 6.0000 - fp: 2.0000 - tn: 230.0000 - fn: 10.0000 - accuracy: 0.9516 - precision: 0.7500 - recall: 0.3750 - auc: 0.8960 - prc: 0.6390 - val_loss: 4.9398 - val_tp: 0.0000e+00 - val_fp: 2.0000 - val_tn: 25.0000 - val_fn: 1.0000 - val_accuracy: 0.8929 - val_precision: 0.0000e+00 - val_recall: 0.0000e+00 - val_auc: 0.7407 - val_prc: 0.0653 - lr: 1.0000e-05\n",
            "Epoch 25/100\n",
            "25/25 [==============================] - 20s 818ms/step - loss: 4.7668 - tp: 8.0000 - fp: 0.0000e+00 - tn: 232.0000 - fn: 8.0000 - accuracy: 0.9677 - precision: 1.0000 - recall: 0.5000 - auc: 0.9103 - prc: 0.6483 - val_loss: 4.9134 - val_tp: 0.0000e+00 - val_fp: 2.0000 - val_tn: 25.0000 - val_fn: 1.0000 - val_accuracy: 0.8929 - val_precision: 0.0000e+00 - val_recall: 0.0000e+00 - val_auc: 0.8148 - val_prc: 0.0846 - lr: 1.0000e-05\n",
            "Epoch 26/100\n",
            "25/25 [==============================] - 20s 819ms/step - loss: 4.7440 - tp: 8.0000 - fp: 1.0000 - tn: 231.0000 - fn: 8.0000 - accuracy: 0.9637 - precision: 0.8889 - recall: 0.5000 - auc: 0.9454 - prc: 0.7233 - val_loss: 4.8690 - val_tp: 0.0000e+00 - val_fp: 2.0000 - val_tn: 25.0000 - val_fn: 1.0000 - val_accuracy: 0.8929 - val_precision: 0.0000e+00 - val_recall: 0.0000e+00 - val_auc: 0.8704 - val_prc: 0.1169 - lr: 1.0000e-05\n",
            "Epoch 27/100\n",
            "25/25 [==============================] - 21s 821ms/step - loss: 4.7260 - tp: 8.0000 - fp: 0.0000e+00 - tn: 232.0000 - fn: 8.0000 - accuracy: 0.9677 - precision: 1.0000 - recall: 0.5000 - auc: 0.9572 - prc: 0.8039 - val_loss: 4.8381 - val_tp: 0.0000e+00 - val_fp: 2.0000 - val_tn: 25.0000 - val_fn: 1.0000 - val_accuracy: 0.8929 - val_precision: 0.0000e+00 - val_recall: 0.0000e+00 - val_auc: 0.8889 - val_prc: 0.1370 - lr: 1.0000e-05\n",
            "Epoch 28/100\n",
            "25/25 [==============================] - 20s 820ms/step - loss: 4.7271 - tp: 9.0000 - fp: 1.0000 - tn: 231.0000 - fn: 7.0000 - accuracy: 0.9677 - precision: 0.9000 - recall: 0.5625 - auc: 0.9635 - prc: 0.7454 - val_loss: 4.8205 - val_tp: 0.0000e+00 - val_fp: 2.0000 - val_tn: 25.0000 - val_fn: 1.0000 - val_accuracy: 0.8929 - val_precision: 0.0000e+00 - val_recall: 0.0000e+00 - val_auc: 0.8889 - val_prc: 0.1370 - lr: 1.0000e-05\n",
            "Epoch 29/100\n",
            "25/25 [==============================] - 20s 816ms/step - loss: 4.7425 - tp: 8.0000 - fp: 1.0000 - tn: 231.0000 - fn: 8.0000 - accuracy: 0.9637 - precision: 0.8889 - recall: 0.5000 - auc: 0.9254 - prc: 0.6601 - val_loss: 4.8001 - val_tp: 0.0000e+00 - val_fp: 2.0000 - val_tn: 25.0000 - val_fn: 1.0000 - val_accuracy: 0.8929 - val_precision: 0.0000e+00 - val_recall: 0.0000e+00 - val_auc: 0.8889 - val_prc: 0.1370 - lr: 1.0000e-05\n",
            "Epoch 30/100\n",
            "25/25 [==============================] - 20s 815ms/step - loss: 4.7023 - tp: 9.0000 - fp: 1.0000 - tn: 231.0000 - fn: 7.0000 - accuracy: 0.9677 - precision: 0.9000 - recall: 0.5625 - auc: 0.9768 - prc: 0.8109 - val_loss: 4.7602 - val_tp: 0.0000e+00 - val_fp: 0.0000e+00 - val_tn: 27.0000 - val_fn: 1.0000 - val_accuracy: 0.9643 - val_precision: 0.0000e+00 - val_recall: 0.0000e+00 - val_auc: 0.9259 - val_prc: 0.1891 - lr: 1.0000e-05\n",
            "Epoch 31/100\n",
            "25/25 [==============================] - 20s 817ms/step - loss: 4.6944 - tp: 11.0000 - fp: 2.0000 - tn: 230.0000 - fn: 5.0000 - accuracy: 0.9718 - precision: 0.8462 - recall: 0.6875 - auc: 0.9553 - prc: 0.8324 - val_loss: 4.7410 - val_tp: 0.0000e+00 - val_fp: 0.0000e+00 - val_tn: 27.0000 - val_fn: 1.0000 - val_accuracy: 0.9643 - val_precision: 0.0000e+00 - val_recall: 0.0000e+00 - val_auc: 0.9259 - val_prc: 0.1891 - lr: 1.0000e-05\n",
            "Epoch 32/100\n",
            "25/25 [==============================] - 20s 818ms/step - loss: 4.6945 - tp: 9.0000 - fp: 1.0000 - tn: 231.0000 - fn: 7.0000 - accuracy: 0.9677 - precision: 0.9000 - recall: 0.5625 - auc: 0.9704 - prc: 0.7784 - val_loss: 4.7118 - val_tp: 0.0000e+00 - val_fp: 0.0000e+00 - val_tn: 27.0000 - val_fn: 1.0000 - val_accuracy: 0.9643 - val_precision: 0.0000e+00 - val_recall: 0.0000e+00 - val_auc: 0.9259 - val_prc: 0.1891 - lr: 1.0000e-05\n",
            "Epoch 33/100\n",
            "25/25 [==============================] - 20s 818ms/step - loss: 4.6919 - tp: 5.0000 - fp: 0.0000e+00 - tn: 232.0000 - fn: 11.0000 - accuracy: 0.9556 - precision: 1.0000 - recall: 0.3125 - auc: 0.9850 - prc: 0.8298 - val_loss: 4.7113 - val_tp: 0.0000e+00 - val_fp: 0.0000e+00 - val_tn: 27.0000 - val_fn: 1.0000 - val_accuracy: 0.9643 - val_precision: 0.0000e+00 - val_recall: 0.0000e+00 - val_auc: 0.9259 - val_prc: 0.1891 - lr: 1.0000e-05\n",
            "Epoch 34/100\n",
            "25/25 [==============================] - 21s 824ms/step - loss: 4.6854 - tp: 7.0000 - fp: 0.0000e+00 - tn: 232.0000 - fn: 9.0000 - accuracy: 0.9637 - precision: 1.0000 - recall: 0.4375 - auc: 0.9652 - prc: 0.7673 - val_loss: 4.7095 - val_tp: 0.0000e+00 - val_fp: 0.0000e+00 - val_tn: 27.0000 - val_fn: 1.0000 - val_accuracy: 0.9643 - val_precision: 0.0000e+00 - val_recall: 0.0000e+00 - val_auc: 0.9259 - val_prc: 0.1891 - lr: 1.0000e-05\n",
            "Epoch 35/100\n",
            "25/25 [==============================] - 21s 825ms/step - loss: 4.6848 - tp: 9.0000 - fp: 3.0000 - tn: 229.0000 - fn: 7.0000 - accuracy: 0.9597 - precision: 0.7500 - recall: 0.5625 - auc: 0.9615 - prc: 0.7383 - val_loss: 4.6891 - val_tp: 0.0000e+00 - val_fp: 0.0000e+00 - val_tn: 27.0000 - val_fn: 1.0000 - val_accuracy: 0.9643 - val_precision: 0.0000e+00 - val_recall: 0.0000e+00 - val_auc: 0.9259 - val_prc: 0.1891 - lr: 1.0000e-05\n",
            "Epoch 36/100\n",
            "25/25 [==============================] - 21s 822ms/step - loss: 4.6672 - tp: 9.0000 - fp: 0.0000e+00 - tn: 232.0000 - fn: 7.0000 - accuracy: 0.9718 - precision: 1.0000 - recall: 0.5625 - auc: 0.9581 - prc: 0.7913 - val_loss: 4.6738 - val_tp: 0.0000e+00 - val_fp: 0.0000e+00 - val_tn: 27.0000 - val_fn: 1.0000 - val_accuracy: 0.9643 - val_precision: 0.0000e+00 - val_recall: 0.0000e+00 - val_auc: 0.9259 - val_prc: 0.1891 - lr: 1.0000e-05\n",
            "Epoch 37/100\n",
            "25/25 [==============================] - 20s 819ms/step - loss: 4.6511 - tp: 11.0000 - fp: 1.0000 - tn: 231.0000 - fn: 5.0000 - accuracy: 0.9758 - precision: 0.9167 - recall: 0.6875 - auc: 0.9752 - prc: 0.8426 - val_loss: 4.6695 - val_tp: 0.0000e+00 - val_fp: 0.0000e+00 - val_tn: 27.0000 - val_fn: 1.0000 - val_accuracy: 0.9643 - val_precision: 0.0000e+00 - val_recall: 0.0000e+00 - val_auc: 0.9259 - val_prc: 0.1891 - lr: 1.0000e-05\n",
            "Epoch 38/100\n",
            "25/25 [==============================] - 21s 821ms/step - loss: 4.6488 - tp: 9.0000 - fp: 1.0000 - tn: 231.0000 - fn: 7.0000 - accuracy: 0.9677 - precision: 0.9000 - recall: 0.5625 - auc: 0.9727 - prc: 0.8264 - val_loss: 4.6625 - val_tp: 0.0000e+00 - val_fp: 0.0000e+00 - val_tn: 27.0000 - val_fn: 1.0000 - val_accuracy: 0.9643 - val_precision: 0.0000e+00 - val_recall: 0.0000e+00 - val_auc: 0.9259 - val_prc: 0.1891 - lr: 1.0000e-05\n",
            "Epoch 39/100\n",
            "25/25 [==============================] - 21s 821ms/step - loss: 4.6471 - tp: 7.0000 - fp: 0.0000e+00 - tn: 232.0000 - fn: 9.0000 - accuracy: 0.9637 - precision: 1.0000 - recall: 0.4375 - auc: 0.9692 - prc: 0.8164 - val_loss: 4.6479 - val_tp: 0.0000e+00 - val_fp: 0.0000e+00 - val_tn: 27.0000 - val_fn: 1.0000 - val_accuracy: 0.9643 - val_precision: 0.0000e+00 - val_recall: 0.0000e+00 - val_auc: 0.9259 - val_prc: 0.1891 - lr: 1.0000e-05\n",
            "Epoch 40/100\n",
            "25/25 [==============================] - 20s 819ms/step - loss: 4.6509 - tp: 8.0000 - fp: 0.0000e+00 - tn: 232.0000 - fn: 8.0000 - accuracy: 0.9677 - precision: 1.0000 - recall: 0.5000 - auc: 0.9529 - prc: 0.7310 - val_loss: 4.6426 - val_tp: 0.0000e+00 - val_fp: 0.0000e+00 - val_tn: 27.0000 - val_fn: 1.0000 - val_accuracy: 0.9643 - val_precision: 0.0000e+00 - val_recall: 0.0000e+00 - val_auc: 0.9259 - val_prc: 0.1891 - lr: 1.0000e-05\n",
            "Epoch 41/100\n",
            "25/25 [==============================] - 21s 823ms/step - loss: 4.6501 - tp: 10.0000 - fp: 2.0000 - tn: 230.0000 - fn: 6.0000 - accuracy: 0.9677 - precision: 0.8333 - recall: 0.6250 - auc: 0.9446 - prc: 0.7312 - val_loss: 4.6331 - val_tp: 0.0000e+00 - val_fp: 0.0000e+00 - val_tn: 27.0000 - val_fn: 1.0000 - val_accuracy: 0.9643 - val_precision: 0.0000e+00 - val_recall: 0.0000e+00 - val_auc: 0.9259 - val_prc: 0.1891 - lr: 1.0000e-05\n",
            "Epoch 42/100\n",
            "25/25 [==============================] - 20s 819ms/step - loss: 4.6349 - tp: 7.0000 - fp: 0.0000e+00 - tn: 232.0000 - fn: 9.0000 - accuracy: 0.9637 - precision: 1.0000 - recall: 0.4375 - auc: 0.9515 - prc: 0.7994 - val_loss: 4.6319 - val_tp: 0.0000e+00 - val_fp: 0.0000e+00 - val_tn: 27.0000 - val_fn: 1.0000 - val_accuracy: 0.9643 - val_precision: 0.0000e+00 - val_recall: 0.0000e+00 - val_auc: 0.9259 - val_prc: 0.1891 - lr: 1.0000e-05\n",
            "Epoch 43/100\n",
            "25/25 [==============================] - 20s 813ms/step - loss: 4.6198 - tp: 8.0000 - fp: 3.0000 - tn: 229.0000 - fn: 8.0000 - accuracy: 0.9556 - precision: 0.7273 - recall: 0.5000 - auc: 0.9811 - prc: 0.7919 - val_loss: 4.6252 - val_tp: 0.0000e+00 - val_fp: 0.0000e+00 - val_tn: 27.0000 - val_fn: 1.0000 - val_accuracy: 0.9643 - val_precision: 0.0000e+00 - val_recall: 0.0000e+00 - val_auc: 0.9259 - val_prc: 0.1891 - lr: 1.0000e-05\n",
            "Epoch 44/100\n",
            "25/25 [==============================] - 20s 814ms/step - loss: 4.6314 - tp: 7.0000 - fp: 1.0000 - tn: 231.0000 - fn: 9.0000 - accuracy: 0.9597 - precision: 0.8750 - recall: 0.4375 - auc: 0.9403 - prc: 0.7657 - val_loss: 4.6161 - val_tp: 0.0000e+00 - val_fp: 0.0000e+00 - val_tn: 27.0000 - val_fn: 1.0000 - val_accuracy: 0.9643 - val_precision: 0.0000e+00 - val_recall: 0.0000e+00 - val_auc: 0.9259 - val_prc: 0.1891 - lr: 1.0000e-05\n",
            "Epoch 45/100\n",
            "25/25 [==============================] - 20s 817ms/step - loss: 4.6114 - tp: 12.0000 - fp: 2.0000 - tn: 230.0000 - fn: 4.0000 - accuracy: 0.9758 - precision: 0.8571 - recall: 0.7500 - auc: 0.9463 - prc: 0.7857 - val_loss: 4.6143 - val_tp: 0.0000e+00 - val_fp: 0.0000e+00 - val_tn: 27.0000 - val_fn: 1.0000 - val_accuracy: 0.9643 - val_precision: 0.0000e+00 - val_recall: 0.0000e+00 - val_auc: 0.9259 - val_prc: 0.1891 - lr: 1.0000e-05\n",
            "Epoch 46/100\n",
            "25/25 [==============================] - 20s 814ms/step - loss: 4.6036 - tp: 9.0000 - fp: 2.0000 - tn: 230.0000 - fn: 7.0000 - accuracy: 0.9637 - precision: 0.8182 - recall: 0.5625 - auc: 0.9603 - prc: 0.7908 - val_loss: 4.6050 - val_tp: 0.0000e+00 - val_fp: 0.0000e+00 - val_tn: 27.0000 - val_fn: 1.0000 - val_accuracy: 0.9643 - val_precision: 0.0000e+00 - val_recall: 0.0000e+00 - val_auc: 0.9259 - val_prc: 0.1891 - lr: 1.0000e-05\n",
            "Epoch 47/100\n",
            "25/25 [==============================] - 20s 815ms/step - loss: 4.5866 - tp: 8.0000 - fp: 0.0000e+00 - tn: 232.0000 - fn: 8.0000 - accuracy: 0.9677 - precision: 1.0000 - recall: 0.5000 - auc: 0.9772 - prc: 0.8087 - val_loss: 4.5985 - val_tp: 0.0000e+00 - val_fp: 0.0000e+00 - val_tn: 27.0000 - val_fn: 1.0000 - val_accuracy: 0.9643 - val_precision: 0.0000e+00 - val_recall: 0.0000e+00 - val_auc: 0.9259 - val_prc: 0.1891 - lr: 1.0000e-05\n",
            "Epoch 48/100\n",
            "25/25 [==============================] - 20s 812ms/step - loss: 4.5829 - tp: 10.0000 - fp: 1.0000 - tn: 231.0000 - fn: 6.0000 - accuracy: 0.9718 - precision: 0.9091 - recall: 0.6250 - auc: 0.9627 - prc: 0.8107 - val_loss: 4.5934 - val_tp: 0.0000e+00 - val_fp: 0.0000e+00 - val_tn: 27.0000 - val_fn: 1.0000 - val_accuracy: 0.9643 - val_precision: 0.0000e+00 - val_recall: 0.0000e+00 - val_auc: 0.9259 - val_prc: 0.1891 - lr: 1.0000e-05\n",
            "Epoch 49/100\n",
            "25/25 [==============================] - 20s 813ms/step - loss: 4.5698 - tp: 10.0000 - fp: 0.0000e+00 - tn: 232.0000 - fn: 6.0000 - accuracy: 0.9758 - precision: 1.0000 - recall: 0.6250 - auc: 0.9744 - prc: 0.8380 - val_loss: 4.5879 - val_tp: 0.0000e+00 - val_fp: 0.0000e+00 - val_tn: 27.0000 - val_fn: 1.0000 - val_accuracy: 0.9643 - val_precision: 0.0000e+00 - val_recall: 0.0000e+00 - val_auc: 0.9259 - val_prc: 0.1891 - lr: 1.0000e-05\n",
            "Epoch 50/100\n",
            "25/25 [==============================] - 20s 815ms/step - loss: 4.5497 - tp: 9.0000 - fp: 0.0000e+00 - tn: 232.0000 - fn: 7.0000 - accuracy: 0.9718 - precision: 1.0000 - recall: 0.5625 - auc: 0.9906 - prc: 0.9132 - val_loss: 4.5807 - val_tp: 0.0000e+00 - val_fp: 0.0000e+00 - val_tn: 27.0000 - val_fn: 1.0000 - val_accuracy: 0.9643 - val_precision: 0.0000e+00 - val_recall: 0.0000e+00 - val_auc: 0.9259 - val_prc: 0.1891 - lr: 1.0000e-05\n",
            "Epoch 51/100\n",
            "25/25 [==============================] - 20s 815ms/step - loss: 4.5610 - tp: 10.0000 - fp: 2.0000 - tn: 230.0000 - fn: 6.0000 - accuracy: 0.9677 - precision: 0.8333 - recall: 0.6250 - auc: 0.9790 - prc: 0.8107 - val_loss: 4.5774 - val_tp: 0.0000e+00 - val_fp: 0.0000e+00 - val_tn: 27.0000 - val_fn: 1.0000 - val_accuracy: 0.9643 - val_precision: 0.0000e+00 - val_recall: 0.0000e+00 - val_auc: 0.9259 - val_prc: 0.1891 - lr: 1.0000e-05\n",
            "Epoch 52/100\n",
            "25/25 [==============================] - 20s 812ms/step - loss: 4.5673 - tp: 9.0000 - fp: 3.0000 - tn: 229.0000 - fn: 7.0000 - accuracy: 0.9597 - precision: 0.7500 - recall: 0.5625 - auc: 0.9670 - prc: 0.7577 - val_loss: 4.5701 - val_tp: 0.0000e+00 - val_fp: 0.0000e+00 - val_tn: 27.0000 - val_fn: 1.0000 - val_accuracy: 0.9643 - val_precision: 0.0000e+00 - val_recall: 0.0000e+00 - val_auc: 0.9259 - val_prc: 0.1891 - lr: 1.0000e-05\n",
            "Epoch 53/100\n",
            "25/25 [==============================] - 20s 810ms/step - loss: 4.5421 - tp: 9.0000 - fp: 1.0000 - tn: 231.0000 - fn: 7.0000 - accuracy: 0.9677 - precision: 0.9000 - recall: 0.5625 - auc: 0.9834 - prc: 0.8409 - val_loss: 4.5613 - val_tp: 0.0000e+00 - val_fp: 0.0000e+00 - val_tn: 27.0000 - val_fn: 1.0000 - val_accuracy: 0.9643 - val_precision: 0.0000e+00 - val_recall: 0.0000e+00 - val_auc: 0.9259 - val_prc: 0.1891 - lr: 1.0000e-05\n",
            "Epoch 54/100\n",
            "25/25 [==============================] - 20s 814ms/step - loss: 4.5172 - tp: 11.0000 - fp: 1.0000 - tn: 231.0000 - fn: 5.0000 - accuracy: 0.9758 - precision: 0.9167 - recall: 0.6875 - auc: 0.9910 - prc: 0.9066 - val_loss: 4.5567 - val_tp: 0.0000e+00 - val_fp: 0.0000e+00 - val_tn: 27.0000 - val_fn: 1.0000 - val_accuracy: 0.9643 - val_precision: 0.0000e+00 - val_recall: 0.0000e+00 - val_auc: 0.9259 - val_prc: 0.1891 - lr: 1.0000e-05\n",
            "Epoch 55/100\n",
            "25/25 [==============================] - 20s 816ms/step - loss: 4.5228 - tp: 11.0000 - fp: 1.0000 - tn: 231.0000 - fn: 5.0000 - accuracy: 0.9758 - precision: 0.9167 - recall: 0.6875 - auc: 0.9752 - prc: 0.8508 - val_loss: 4.5516 - val_tp: 0.0000e+00 - val_fp: 0.0000e+00 - val_tn: 27.0000 - val_fn: 1.0000 - val_accuracy: 0.9643 - val_precision: 0.0000e+00 - val_recall: 0.0000e+00 - val_auc: 0.9259 - val_prc: 0.1891 - lr: 1.0000e-05\n",
            "Epoch 56/100\n",
            "25/25 [==============================] - 20s 821ms/step - loss: 4.5071 - tp: 11.0000 - fp: 0.0000e+00 - tn: 232.0000 - fn: 5.0000 - accuracy: 0.9798 - precision: 1.0000 - recall: 0.6875 - auc: 0.9868 - prc: 0.8967 - val_loss: 4.5468 - val_tp: 0.0000e+00 - val_fp: 0.0000e+00 - val_tn: 27.0000 - val_fn: 1.0000 - val_accuracy: 0.9643 - val_precision: 0.0000e+00 - val_recall: 0.0000e+00 - val_auc: 0.9259 - val_prc: 0.1891 - lr: 1.0000e-05\n",
            "Epoch 57/100\n",
            "25/25 [==============================] - 20s 815ms/step - loss: 4.5091 - tp: 9.0000 - fp: 1.0000 - tn: 231.0000 - fn: 7.0000 - accuracy: 0.9677 - precision: 0.9000 - recall: 0.5625 - auc: 0.9881 - prc: 0.8567 - val_loss: 4.5408 - val_tp: 0.0000e+00 - val_fp: 0.0000e+00 - val_tn: 27.0000 - val_fn: 1.0000 - val_accuracy: 0.9643 - val_precision: 0.0000e+00 - val_recall: 0.0000e+00 - val_auc: 0.9259 - val_prc: 0.1891 - lr: 1.0000e-05\n",
            "Epoch 58/100\n",
            "25/25 [==============================] - 20s 813ms/step - loss: 4.5004 - tp: 10.0000 - fp: 2.0000 - tn: 230.0000 - fn: 6.0000 - accuracy: 0.9677 - precision: 0.8333 - recall: 0.6250 - auc: 0.9860 - prc: 0.8648 - val_loss: 4.5255 - val_tp: 0.0000e+00 - val_fp: 0.0000e+00 - val_tn: 27.0000 - val_fn: 1.0000 - val_accuracy: 0.9643 - val_precision: 0.0000e+00 - val_recall: 0.0000e+00 - val_auc: 0.9259 - val_prc: 0.1891 - lr: 1.0000e-05\n",
            "Epoch 59/100\n",
            "25/25 [==============================] - 20s 814ms/step - loss: 4.4865 - tp: 9.0000 - fp: 0.0000e+00 - tn: 232.0000 - fn: 7.0000 - accuracy: 0.9718 - precision: 1.0000 - recall: 0.5625 - auc: 0.9881 - prc: 0.9202 - val_loss: 4.5261 - val_tp: 0.0000e+00 - val_fp: 0.0000e+00 - val_tn: 27.0000 - val_fn: 1.0000 - val_accuracy: 0.9643 - val_precision: 0.0000e+00 - val_recall: 0.0000e+00 - val_auc: 0.9259 - val_prc: 0.1891 - lr: 1.0000e-05\n",
            "Epoch 60/100\n",
            "25/25 [==============================] - 20s 814ms/step - loss: 4.4697 - tp: 13.0000 - fp: 0.0000e+00 - tn: 232.0000 - fn: 3.0000 - accuracy: 0.9879 - precision: 1.0000 - recall: 0.8125 - auc: 0.9973 - prc: 0.9712 - val_loss: 4.5178 - val_tp: 0.0000e+00 - val_fp: 0.0000e+00 - val_tn: 27.0000 - val_fn: 1.0000 - val_accuracy: 0.9643 - val_precision: 0.0000e+00 - val_recall: 0.0000e+00 - val_auc: 0.9259 - val_prc: 0.1891 - lr: 1.0000e-05\n",
            "Epoch 61/100\n",
            "25/25 [==============================] - 20s 814ms/step - loss: 4.4852 - tp: 13.0000 - fp: 2.0000 - tn: 230.0000 - fn: 3.0000 - accuracy: 0.9798 - precision: 0.8667 - recall: 0.8125 - auc: 0.9744 - prc: 0.8667 - val_loss: 4.5047 - val_tp: 0.0000e+00 - val_fp: 0.0000e+00 - val_tn: 27.0000 - val_fn: 1.0000 - val_accuracy: 0.9643 - val_precision: 0.0000e+00 - val_recall: 0.0000e+00 - val_auc: 0.9259 - val_prc: 0.1891 - lr: 1.0000e-05\n",
            "Epoch 62/100\n",
            "25/25 [==============================] - 21s 861ms/step - loss: 4.4558 - tp: 13.0000 - fp: 1.0000 - tn: 231.0000 - fn: 3.0000 - accuracy: 0.9839 - precision: 0.9286 - recall: 0.8125 - auc: 0.9907 - prc: 0.9248 - val_loss: 4.4948 - val_tp: 0.0000e+00 - val_fp: 0.0000e+00 - val_tn: 27.0000 - val_fn: 1.0000 - val_accuracy: 0.9643 - val_precision: 0.0000e+00 - val_recall: 0.0000e+00 - val_auc: 0.9259 - val_prc: 0.1891 - lr: 1.0000e-05\n",
            "Epoch 63/100\n",
            "25/25 [==============================] - 21s 833ms/step - loss: 4.4587 - tp: 10.0000 - fp: 0.0000e+00 - tn: 232.0000 - fn: 6.0000 - accuracy: 0.9758 - precision: 1.0000 - recall: 0.6250 - auc: 0.9896 - prc: 0.9233 - val_loss: 4.5006 - val_tp: 0.0000e+00 - val_fp: 1.0000 - val_tn: 26.0000 - val_fn: 1.0000 - val_accuracy: 0.9286 - val_precision: 0.0000e+00 - val_recall: 0.0000e+00 - val_auc: 0.9259 - val_prc: 0.1891 - lr: 1.0000e-05\n",
            "Epoch 64/100\n",
            "25/25 [==============================] - 20s 814ms/step - loss: 4.4637 - tp: 11.0000 - fp: 1.0000 - tn: 231.0000 - fn: 5.0000 - accuracy: 0.9758 - precision: 0.9167 - recall: 0.6875 - auc: 0.9751 - prc: 0.8604 - val_loss: 4.4903 - val_tp: 0.0000e+00 - val_fp: 0.0000e+00 - val_tn: 27.0000 - val_fn: 1.0000 - val_accuracy: 0.9643 - val_precision: 0.0000e+00 - val_recall: 0.0000e+00 - val_auc: 0.9259 - val_prc: 0.1891 - lr: 1.0000e-05\n",
            "Epoch 65/100\n",
            "25/25 [==============================] - 20s 816ms/step - loss: 4.4522 - tp: 10.0000 - fp: 1.0000 - tn: 231.0000 - fn: 6.0000 - accuracy: 0.9718 - precision: 0.9091 - recall: 0.6250 - auc: 0.9898 - prc: 0.8707 - val_loss: 4.4916 - val_tp: 0.0000e+00 - val_fp: 1.0000 - val_tn: 26.0000 - val_fn: 1.0000 - val_accuracy: 0.9286 - val_precision: 0.0000e+00 - val_recall: 0.0000e+00 - val_auc: 0.9259 - val_prc: 0.1891 - lr: 1.0000e-05\n",
            "Epoch 66/100\n",
            "25/25 [==============================] - 20s 816ms/step - loss: 4.4424 - tp: 11.0000 - fp: 2.0000 - tn: 230.0000 - fn: 5.0000 - accuracy: 0.9718 - precision: 0.8462 - recall: 0.6875 - auc: 0.9871 - prc: 0.8620 - val_loss: 4.4668 - val_tp: 0.0000e+00 - val_fp: 0.0000e+00 - val_tn: 27.0000 - val_fn: 1.0000 - val_accuracy: 0.9643 - val_precision: 0.0000e+00 - val_recall: 0.0000e+00 - val_auc: 0.9259 - val_prc: 0.1891 - lr: 1.0000e-05\n",
            "Epoch 67/100\n",
            "25/25 [==============================] - 20s 816ms/step - loss: 4.4329 - tp: 9.0000 - fp: 1.0000 - tn: 231.0000 - fn: 7.0000 - accuracy: 0.9677 - precision: 0.9000 - recall: 0.5625 - auc: 0.9879 - prc: 0.9061 - val_loss: 4.4618 - val_tp: 0.0000e+00 - val_fp: 0.0000e+00 - val_tn: 27.0000 - val_fn: 1.0000 - val_accuracy: 0.9643 - val_precision: 0.0000e+00 - val_recall: 0.0000e+00 - val_auc: 0.9259 - val_prc: 0.1891 - lr: 1.0000e-05\n",
            "Epoch 68/100\n",
            "25/25 [==============================] - 20s 816ms/step - loss: 4.4205 - tp: 11.0000 - fp: 0.0000e+00 - tn: 232.0000 - fn: 5.0000 - accuracy: 0.9798 - precision: 1.0000 - recall: 0.6875 - auc: 0.9876 - prc: 0.9070 - val_loss: 4.4572 - val_tp: 0.0000e+00 - val_fp: 0.0000e+00 - val_tn: 27.0000 - val_fn: 1.0000 - val_accuracy: 0.9643 - val_precision: 0.0000e+00 - val_recall: 0.0000e+00 - val_auc: 0.9259 - val_prc: 0.1891 - lr: 1.0000e-05\n",
            "Epoch 69/100\n",
            "25/25 [==============================] - 20s 817ms/step - loss: 4.4171 - tp: 14.0000 - fp: 1.0000 - tn: 231.0000 - fn: 2.0000 - accuracy: 0.9879 - precision: 0.9333 - recall: 0.8750 - auc: 0.9892 - prc: 0.9077 - val_loss: 4.4447 - val_tp: 0.0000e+00 - val_fp: 0.0000e+00 - val_tn: 27.0000 - val_fn: 1.0000 - val_accuracy: 0.9643 - val_precision: 0.0000e+00 - val_recall: 0.0000e+00 - val_auc: 0.9259 - val_prc: 0.1891 - lr: 1.0000e-05\n",
            "Epoch 70/100\n",
            "25/25 [==============================] - 20s 817ms/step - loss: 4.4278 - tp: 11.0000 - fp: 0.0000e+00 - tn: 232.0000 - fn: 5.0000 - accuracy: 0.9798 - precision: 1.0000 - recall: 0.6875 - auc: 0.9459 - prc: 0.8378 - val_loss: 4.4408 - val_tp: 0.0000e+00 - val_fp: 0.0000e+00 - val_tn: 27.0000 - val_fn: 1.0000 - val_accuracy: 0.9643 - val_precision: 0.0000e+00 - val_recall: 0.0000e+00 - val_auc: 0.9259 - val_prc: 0.1891 - lr: 1.0000e-05\n",
            "Epoch 71/100\n",
            "25/25 [==============================] - 20s 815ms/step - loss: 4.4079 - tp: 11.0000 - fp: 3.0000 - tn: 229.0000 - fn: 5.0000 - accuracy: 0.9677 - precision: 0.7857 - recall: 0.6875 - auc: 0.9887 - prc: 0.8791 - val_loss: 4.4371 - val_tp: 0.0000e+00 - val_fp: 0.0000e+00 - val_tn: 27.0000 - val_fn: 1.0000 - val_accuracy: 0.9643 - val_precision: 0.0000e+00 - val_recall: 0.0000e+00 - val_auc: 0.9259 - val_prc: 0.1891 - lr: 1.0000e-05\n",
            "Epoch 72/100\n",
            "25/25 [==============================] - 20s 815ms/step - loss: 4.3927 - tp: 11.0000 - fp: 0.0000e+00 - tn: 232.0000 - fn: 5.0000 - accuracy: 0.9798 - precision: 1.0000 - recall: 0.6875 - auc: 0.9856 - prc: 0.9010 - val_loss: 4.4201 - val_tp: 0.0000e+00 - val_fp: 0.0000e+00 - val_tn: 27.0000 - val_fn: 1.0000 - val_accuracy: 0.9643 - val_precision: 0.0000e+00 - val_recall: 0.0000e+00 - val_auc: 0.9259 - val_prc: 0.1891 - lr: 1.0000e-05\n",
            "Epoch 73/100\n",
            "25/25 [==============================] - 20s 812ms/step - loss: 4.4036 - tp: 10.0000 - fp: 2.0000 - tn: 230.0000 - fn: 6.0000 - accuracy: 0.9677 - precision: 0.8333 - recall: 0.6250 - auc: 0.9782 - prc: 0.8414 - val_loss: 4.4159 - val_tp: 0.0000e+00 - val_fp: 0.0000e+00 - val_tn: 27.0000 - val_fn: 1.0000 - val_accuracy: 0.9643 - val_precision: 0.0000e+00 - val_recall: 0.0000e+00 - val_auc: 0.9259 - val_prc: 0.1891 - lr: 1.0000e-05\n",
            "Epoch 74/100\n",
            "25/25 [==============================] - 20s 815ms/step - loss: 4.4075 - tp: 9.0000 - fp: 1.0000 - tn: 231.0000 - fn: 7.0000 - accuracy: 0.9677 - precision: 0.9000 - recall: 0.5625 - auc: 0.9663 - prc: 0.7968 - val_loss: 4.4091 - val_tp: 0.0000e+00 - val_fp: 0.0000e+00 - val_tn: 27.0000 - val_fn: 1.0000 - val_accuracy: 0.9643 - val_precision: 0.0000e+00 - val_recall: 0.0000e+00 - val_auc: 0.9259 - val_prc: 0.1891 - lr: 1.0000e-05\n",
            "Epoch 75/100\n",
            "25/25 [==============================] - 20s 817ms/step - loss: 4.3840 - tp: 11.0000 - fp: 2.0000 - tn: 230.0000 - fn: 5.0000 - accuracy: 0.9718 - precision: 0.8462 - recall: 0.6875 - auc: 0.9860 - prc: 0.8502 - val_loss: 4.4115 - val_tp: 0.0000e+00 - val_fp: 0.0000e+00 - val_tn: 27.0000 - val_fn: 1.0000 - val_accuracy: 0.9643 - val_precision: 0.0000e+00 - val_recall: 0.0000e+00 - val_auc: 0.9259 - val_prc: 0.1891 - lr: 1.0000e-05\n",
            "Epoch 76/100\n",
            "25/25 [==============================] - 20s 811ms/step - loss: 4.3621 - tp: 11.0000 - fp: 2.0000 - tn: 230.0000 - fn: 5.0000 - accuracy: 0.9718 - precision: 0.8462 - recall: 0.6875 - auc: 0.9922 - prc: 0.9105 - val_loss: 4.4005 - val_tp: 0.0000e+00 - val_fp: 0.0000e+00 - val_tn: 27.0000 - val_fn: 1.0000 - val_accuracy: 0.9643 - val_precision: 0.0000e+00 - val_recall: 0.0000e+00 - val_auc: 0.9259 - val_prc: 0.1891 - lr: 1.0000e-05\n",
            "Epoch 77/100\n",
            "25/25 [==============================] - 20s 811ms/step - loss: 4.3882 - tp: 7.0000 - fp: 4.0000 - tn: 228.0000 - fn: 9.0000 - accuracy: 0.9476 - precision: 0.6364 - recall: 0.4375 - auc: 0.9793 - prc: 0.7849 - val_loss: 4.4042 - val_tp: 0.0000e+00 - val_fp: 1.0000 - val_tn: 26.0000 - val_fn: 1.0000 - val_accuracy: 0.9286 - val_precision: 0.0000e+00 - val_recall: 0.0000e+00 - val_auc: 0.9259 - val_prc: 0.1891 - lr: 1.0000e-05\n",
            "Epoch 78/100\n",
            "25/25 [==============================] - 20s 818ms/step - loss: 4.3662 - tp: 10.0000 - fp: 0.0000e+00 - tn: 232.0000 - fn: 6.0000 - accuracy: 0.9758 - precision: 1.0000 - recall: 0.6250 - auc: 0.9790 - prc: 0.8353 - val_loss: 4.3950 - val_tp: 0.0000e+00 - val_fp: 1.0000 - val_tn: 26.0000 - val_fn: 1.0000 - val_accuracy: 0.9286 - val_precision: 0.0000e+00 - val_recall: 0.0000e+00 - val_auc: 0.9259 - val_prc: 0.1891 - lr: 1.0000e-05\n",
            "Epoch 79/100\n",
            "25/25 [==============================] - 20s 813ms/step - loss: 4.3572 - tp: 12.0000 - fp: 3.0000 - tn: 229.0000 - fn: 4.0000 - accuracy: 0.9718 - precision: 0.8000 - recall: 0.7500 - auc: 0.9774 - prc: 0.8419 - val_loss: 4.3785 - val_tp: 0.0000e+00 - val_fp: 0.0000e+00 - val_tn: 27.0000 - val_fn: 1.0000 - val_accuracy: 0.9643 - val_precision: 0.0000e+00 - val_recall: 0.0000e+00 - val_auc: 0.9259 - val_prc: 0.1891 - lr: 1.0000e-05\n",
            "Epoch 80/100\n",
            "25/25 [==============================] - 20s 812ms/step - loss: 4.3414 - tp: 11.0000 - fp: 2.0000 - tn: 230.0000 - fn: 5.0000 - accuracy: 0.9718 - precision: 0.8462 - recall: 0.6875 - auc: 0.9891 - prc: 0.8865 - val_loss: 4.3725 - val_tp: 0.0000e+00 - val_fp: 0.0000e+00 - val_tn: 27.0000 - val_fn: 1.0000 - val_accuracy: 0.9643 - val_precision: 0.0000e+00 - val_recall: 0.0000e+00 - val_auc: 0.9259 - val_prc: 0.1891 - lr: 1.0000e-05\n",
            "Epoch 81/100\n",
            "25/25 [==============================] - 20s 813ms/step - loss: 4.3324 - tp: 13.0000 - fp: 0.0000e+00 - tn: 232.0000 - fn: 3.0000 - accuracy: 0.9879 - precision: 1.0000 - recall: 0.8125 - auc: 0.9830 - prc: 0.9039 - val_loss: 4.3684 - val_tp: 0.0000e+00 - val_fp: 0.0000e+00 - val_tn: 27.0000 - val_fn: 1.0000 - val_accuracy: 0.9643 - val_precision: 0.0000e+00 - val_recall: 0.0000e+00 - val_auc: 0.9259 - val_prc: 0.1891 - lr: 1.0000e-05\n",
            "Epoch 82/100\n",
            "25/25 [==============================] - 20s 811ms/step - loss: 4.2993 - tp: 13.0000 - fp: 1.0000 - tn: 231.0000 - fn: 3.0000 - accuracy: 0.9839 - precision: 0.9286 - recall: 0.8125 - auc: 0.9984 - prc: 0.9749 - val_loss: 4.3598 - val_tp: 0.0000e+00 - val_fp: 0.0000e+00 - val_tn: 27.0000 - val_fn: 1.0000 - val_accuracy: 0.9643 - val_precision: 0.0000e+00 - val_recall: 0.0000e+00 - val_auc: 0.9259 - val_prc: 0.1891 - lr: 1.0000e-05\n",
            "Epoch 83/100\n",
            "25/25 [==============================] - 20s 818ms/step - loss: 4.3096 - tp: 12.0000 - fp: 2.0000 - tn: 230.0000 - fn: 4.0000 - accuracy: 0.9758 - precision: 0.8571 - recall: 0.7500 - auc: 0.9938 - prc: 0.9183 - val_loss: 4.3508 - val_tp: 0.0000e+00 - val_fp: 0.0000e+00 - val_tn: 27.0000 - val_fn: 1.0000 - val_accuracy: 0.9643 - val_precision: 0.0000e+00 - val_recall: 0.0000e+00 - val_auc: 0.9259 - val_prc: 0.1891 - lr: 1.0000e-05\n",
            "Epoch 84/100\n",
            "25/25 [==============================] - 20s 814ms/step - loss: 4.3022 - tp: 13.0000 - fp: 1.0000 - tn: 231.0000 - fn: 3.0000 - accuracy: 0.9839 - precision: 0.9286 - recall: 0.8125 - auc: 0.9859 - prc: 0.9157 - val_loss: 4.3390 - val_tp: 0.0000e+00 - val_fp: 0.0000e+00 - val_tn: 27.0000 - val_fn: 1.0000 - val_accuracy: 0.9643 - val_precision: 0.0000e+00 - val_recall: 0.0000e+00 - val_auc: 0.9259 - val_prc: 0.1891 - lr: 1.0000e-05\n",
            "Epoch 85/100\n",
            "25/25 [==============================] - 20s 816ms/step - loss: 4.2942 - tp: 11.0000 - fp: 1.0000 - tn: 231.0000 - fn: 5.0000 - accuracy: 0.9758 - precision: 0.9167 - recall: 0.6875 - auc: 0.9938 - prc: 0.9241 - val_loss: 4.3315 - val_tp: 0.0000e+00 - val_fp: 0.0000e+00 - val_tn: 27.0000 - val_fn: 1.0000 - val_accuracy: 0.9643 - val_precision: 0.0000e+00 - val_recall: 0.0000e+00 - val_auc: 0.9259 - val_prc: 0.1891 - lr: 1.0000e-05\n",
            "Epoch 86/100\n",
            "25/25 [==============================] - 20s 814ms/step - loss: 4.2729 - tp: 12.0000 - fp: 0.0000e+00 - tn: 232.0000 - fn: 4.0000 - accuracy: 0.9839 - precision: 1.0000 - recall: 0.7500 - auc: 0.9957 - prc: 0.9683 - val_loss: 4.3246 - val_tp: 0.0000e+00 - val_fp: 0.0000e+00 - val_tn: 27.0000 - val_fn: 1.0000 - val_accuracy: 0.9643 - val_precision: 0.0000e+00 - val_recall: 0.0000e+00 - val_auc: 0.9259 - val_prc: 0.1891 - lr: 1.0000e-05\n",
            "Epoch 87/100\n",
            "25/25 [==============================] - 20s 812ms/step - loss: 4.2850 - tp: 10.0000 - fp: 0.0000e+00 - tn: 232.0000 - fn: 6.0000 - accuracy: 0.9758 - precision: 1.0000 - recall: 0.6250 - auc: 0.9883 - prc: 0.8982 - val_loss: 4.3194 - val_tp: 0.0000e+00 - val_fp: 0.0000e+00 - val_tn: 27.0000 - val_fn: 1.0000 - val_accuracy: 0.9643 - val_precision: 0.0000e+00 - val_recall: 0.0000e+00 - val_auc: 0.9259 - val_prc: 0.1891 - lr: 1.0000e-05\n",
            "Epoch 88/100\n",
            "25/25 [==============================] - 20s 812ms/step - loss: 4.2699 - tp: 12.0000 - fp: 0.0000e+00 - tn: 232.0000 - fn: 4.0000 - accuracy: 0.9839 - precision: 1.0000 - recall: 0.7500 - auc: 0.9881 - prc: 0.9309 - val_loss: 4.3186 - val_tp: 0.0000e+00 - val_fp: 0.0000e+00 - val_tn: 27.0000 - val_fn: 1.0000 - val_accuracy: 0.9643 - val_precision: 0.0000e+00 - val_recall: 0.0000e+00 - val_auc: 0.9259 - val_prc: 0.1891 - lr: 1.0000e-05\n",
            "Epoch 89/100\n",
            "25/25 [==============================] - 20s 815ms/step - loss: 4.2511 - tp: 13.0000 - fp: 0.0000e+00 - tn: 232.0000 - fn: 3.0000 - accuracy: 0.9879 - precision: 1.0000 - recall: 0.8125 - auc: 0.9953 - prc: 0.9547 - val_loss: 4.3048 - val_tp: 0.0000e+00 - val_fp: 0.0000e+00 - val_tn: 27.0000 - val_fn: 1.0000 - val_accuracy: 0.9643 - val_precision: 0.0000e+00 - val_recall: 0.0000e+00 - val_auc: 0.9259 - val_prc: 0.1891 - lr: 1.0000e-05\n",
            "Epoch 90/100\n",
            "25/25 [==============================] - 20s 811ms/step - loss: 4.2701 - tp: 10.0000 - fp: 1.0000 - tn: 231.0000 - fn: 6.0000 - accuracy: 0.9718 - precision: 0.9091 - recall: 0.6250 - auc: 0.9820 - prc: 0.8969 - val_loss: 4.2955 - val_tp: 0.0000e+00 - val_fp: 0.0000e+00 - val_tn: 27.0000 - val_fn: 1.0000 - val_accuracy: 0.9643 - val_precision: 0.0000e+00 - val_recall: 0.0000e+00 - val_auc: 0.9259 - val_prc: 0.1891 - lr: 1.0000e-05\n",
            "Epoch 91/100\n",
            "25/25 [==============================] - 20s 815ms/step - loss: 4.2525 - tp: 13.0000 - fp: 2.0000 - tn: 230.0000 - fn: 3.0000 - accuracy: 0.9798 - precision: 0.8667 - recall: 0.8125 - auc: 0.9887 - prc: 0.9132 - val_loss: 4.2925 - val_tp: 0.0000e+00 - val_fp: 0.0000e+00 - val_tn: 27.0000 - val_fn: 1.0000 - val_accuracy: 0.9643 - val_precision: 0.0000e+00 - val_recall: 0.0000e+00 - val_auc: 0.9259 - val_prc: 0.1891 - lr: 1.0000e-05\n",
            "Epoch 92/100\n",
            "25/25 [==============================] - 20s 808ms/step - loss: 4.2285 - tp: 14.0000 - fp: 1.0000 - tn: 231.0000 - fn: 2.0000 - accuracy: 0.9879 - precision: 0.9333 - recall: 0.8750 - auc: 0.9949 - prc: 0.9590 - val_loss: 4.2827 - val_tp: 0.0000e+00 - val_fp: 0.0000e+00 - val_tn: 27.0000 - val_fn: 1.0000 - val_accuracy: 0.9643 - val_precision: 0.0000e+00 - val_recall: 0.0000e+00 - val_auc: 0.9259 - val_prc: 0.1891 - lr: 1.0000e-05\n",
            "Epoch 93/100\n",
            "25/25 [==============================] - 20s 813ms/step - loss: 4.2377 - tp: 11.0000 - fp: 1.0000 - tn: 231.0000 - fn: 5.0000 - accuracy: 0.9758 - precision: 0.9167 - recall: 0.6875 - auc: 0.9903 - prc: 0.9159 - val_loss: 4.2709 - val_tp: 0.0000e+00 - val_fp: 0.0000e+00 - val_tn: 27.0000 - val_fn: 1.0000 - val_accuracy: 0.9643 - val_precision: 0.0000e+00 - val_recall: 0.0000e+00 - val_auc: 0.9259 - val_prc: 0.1891 - lr: 1.0000e-05\n",
            "Epoch 94/100\n",
            "25/25 [==============================] - 20s 819ms/step - loss: 4.2345 - tp: 12.0000 - fp: 0.0000e+00 - tn: 232.0000 - fn: 4.0000 - accuracy: 0.9839 - precision: 1.0000 - recall: 0.7500 - auc: 0.9797 - prc: 0.9083 - val_loss: 4.2646 - val_tp: 0.0000e+00 - val_fp: 0.0000e+00 - val_tn: 27.0000 - val_fn: 1.0000 - val_accuracy: 0.9643 - val_precision: 0.0000e+00 - val_recall: 0.0000e+00 - val_auc: 0.9259 - val_prc: 0.1891 - lr: 1.0000e-05\n",
            "Epoch 95/100\n",
            "25/25 [==============================] - 20s 813ms/step - loss: 4.2126 - tp: 13.0000 - fp: 0.0000e+00 - tn: 232.0000 - fn: 3.0000 - accuracy: 0.9879 - precision: 1.0000 - recall: 0.8125 - auc: 0.9970 - prc: 0.9668 - val_loss: 4.2748 - val_tp: 0.0000e+00 - val_fp: 2.0000 - val_tn: 25.0000 - val_fn: 1.0000 - val_accuracy: 0.8929 - val_precision: 0.0000e+00 - val_recall: 0.0000e+00 - val_auc: 0.9259 - val_prc: 0.1891 - lr: 1.0000e-05\n",
            "Epoch 96/100\n",
            "25/25 [==============================] - 20s 813ms/step - loss: 4.2063 - tp: 13.0000 - fp: 1.0000 - tn: 231.0000 - fn: 3.0000 - accuracy: 0.9839 - precision: 0.9286 - recall: 0.8125 - auc: 0.9946 - prc: 0.9481 - val_loss: 4.2470 - val_tp: 0.0000e+00 - val_fp: 0.0000e+00 - val_tn: 27.0000 - val_fn: 1.0000 - val_accuracy: 0.9643 - val_precision: 0.0000e+00 - val_recall: 0.0000e+00 - val_auc: 0.9259 - val_prc: 0.1891 - lr: 1.0000e-05\n",
            "Epoch 97/100\n",
            "25/25 [==============================] - 20s 811ms/step - loss: 4.1931 - tp: 14.0000 - fp: 0.0000e+00 - tn: 232.0000 - fn: 2.0000 - accuracy: 0.9919 - precision: 1.0000 - recall: 0.8750 - auc: 0.9943 - prc: 0.9608 - val_loss: 4.2484 - val_tp: 0.0000e+00 - val_fp: 0.0000e+00 - val_tn: 27.0000 - val_fn: 1.0000 - val_accuracy: 0.9643 - val_precision: 0.0000e+00 - val_recall: 0.0000e+00 - val_auc: 0.9259 - val_prc: 0.1891 - lr: 1.0000e-05\n",
            "Epoch 98/100\n",
            "25/25 [==============================] - 20s 813ms/step - loss: 4.2163 - tp: 11.0000 - fp: 1.0000 - tn: 231.0000 - fn: 5.0000 - accuracy: 0.9758 - precision: 0.9167 - recall: 0.6875 - auc: 0.9716 - prc: 0.8633 - val_loss: 4.2518 - val_tp: 0.0000e+00 - val_fp: 2.0000 - val_tn: 25.0000 - val_fn: 1.0000 - val_accuracy: 0.8929 - val_precision: 0.0000e+00 - val_recall: 0.0000e+00 - val_auc: 0.9259 - val_prc: 0.1891 - lr: 1.0000e-05\n",
            "Epoch 99/100\n",
            "25/25 [==============================] - 20s 813ms/step - loss: 4.1657 - tp: 16.0000 - fp: 0.0000e+00 - tn: 232.0000 - fn: 0.0000e+00 - accuracy: 1.0000 - precision: 1.0000 - recall: 1.0000 - auc: 1.0000 - prc: 1.0000 - val_loss: 4.2303 - val_tp: 0.0000e+00 - val_fp: 0.0000e+00 - val_tn: 27.0000 - val_fn: 1.0000 - val_accuracy: 0.9643 - val_precision: 0.0000e+00 - val_recall: 0.0000e+00 - val_auc: 0.9259 - val_prc: 0.1891 - lr: 1.0000e-05\n",
            "Epoch 100/100\n",
            "25/25 [==============================] - 20s 815ms/step - loss: 4.2092 - tp: 9.0000 - fp: 0.0000e+00 - tn: 232.0000 - fn: 7.0000 - accuracy: 0.9718 - precision: 1.0000 - recall: 0.5625 - auc: 0.9770 - prc: 0.8592 - val_loss: 4.2458 - val_tp: 0.0000e+00 - val_fp: 2.0000 - val_tn: 25.0000 - val_fn: 1.0000 - val_accuracy: 0.8929 - val_precision: 0.0000e+00 - val_recall: 0.0000e+00 - val_auc: 0.9259 - val_prc: 0.1891 - lr: 1.0000e-05\n"
          ]
        }
      ]
    },
    {
      "cell_type": "code",
      "source": [],
      "metadata": {
        "id": "gX4zJdjRkuqo"
      },
      "execution_count": null,
      "outputs": []
    },
    {
      "cell_type": "markdown",
      "source": [
        "#3-Test external data on DRIAMS-A pretrained model "
      ],
      "metadata": {
        "id": "77Z8bpWycZ3e"
      }
    },
    {
      "cell_type": "code",
      "source": [],
      "metadata": {
        "id": "fCZ2COBRbNEG"
      },
      "execution_count": null,
      "outputs": []
    },
    {
      "cell_type": "code",
      "source": [],
      "metadata": {
        "id": "DY3CtWz4i8Ot"
      },
      "execution_count": null,
      "outputs": []
    },
    {
      "cell_type": "markdown",
      "source": [
        "#4-Test external data applying transfer learning, freezing convolutional layers."
      ],
      "metadata": {
        "id": "Zm2aOFm1ctDe"
      }
    },
    {
      "cell_type": "code",
      "source": [],
      "metadata": {
        "id": "1Iv_XnuBbNiH"
      },
      "execution_count": null,
      "outputs": []
    },
    {
      "cell_type": "code",
      "source": [],
      "metadata": {
        "id": "dTIvrDNdi74d"
      },
      "execution_count": null,
      "outputs": []
    },
    {
      "cell_type": "markdown",
      "source": [
        "#5-Test external data applying transfer learning, retraining all layers."
      ],
      "metadata": {
        "id": "RIN9Ocg8bNb2"
      }
    },
    {
      "cell_type": "code",
      "source": [],
      "metadata": {
        "id": "b5tXRKeriLFm"
      },
      "execution_count": null,
      "outputs": []
    },
    {
      "cell_type": "code",
      "source": [],
      "metadata": {
        "id": "Ulqc6Aw3i7bt"
      },
      "execution_count": null,
      "outputs": []
    }
  ]
}