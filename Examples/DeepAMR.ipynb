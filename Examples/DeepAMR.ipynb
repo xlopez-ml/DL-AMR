{
  "nbformat": 4,
  "nbformat_minor": 0,
  "metadata": {
    "colab": {
      "provenance": [],
      "toc_visible": true,
      "authorship_tag": "ABX9TyNS44dQkng/LHKJC1zcH0Yz"
    },
    "kernelspec": {
      "name": "python3",
      "display_name": "Python 3"
    },
    "language_info": {
      "name": "python"
    },
    "accelerator": "GPU",
    "gpuClass": "standard"
  },
  "cells": [
    {
      "cell_type": "markdown",
      "source": [
        "# 0-Libraries"
      ],
      "metadata": {
        "id": "LNNFUJODXA9C"
      }
    },
    {
      "cell_type": "code",
      "execution_count": null,
      "metadata": {
        "id": "W1quzgr-ao8A"
      },
      "outputs": [],
      "source": [
        "import numpy as np\n",
        "import matplotlib as mpl\n",
        "import matplotlib.pyplot as plt\n",
        "import itertools\n",
        "import pandas as pd\n",
        "import sklearn\n",
        "from sklearn.model_selection import train_test_split\n",
        "from sklearn.metrics import confusion_matrix,classification_report,ConfusionMatrixDisplay\n",
        "from sklearn.preprocessing import LabelEncoder, OneHotEncoder\n",
        "from sklearn.compose import ColumnTransformer\n",
        "from sklearn.preprocessing import Normalizer, StandardScaler, MinMaxScaler, MaxAbsScaler, RobustScaler, QuantileTransformer, PowerTransformer\n",
        "import tensorflow as tf\n",
        "from tensorflow import keras\n",
        "from keras import regularizers\n",
        "from tensorflow.keras.optimizers import Adam\n",
        "from keras.backend import expand_dims\n",
        "from keras.callbacks import ReduceLROnPlateau, EarlyStopping\n",
        "from keras.models import Sequential\n",
        "from keras.constraints import MaxNorm\n",
        "from keras.layers import Activation, Dense, Conv1D, Flatten, MaxPooling1D, GlobalAveragePooling1D, MaxPooling1D, AveragePooling1D, Dropout, BatchNormalization, SpatialDropout1D"
      ]
    },
    {
      "cell_type": "code",
      "source": [
        "METRICS = [\n",
        "      keras.metrics.TruePositives(name='tp'),\n",
        "      keras.metrics.FalsePositives(name='fp'),\n",
        "      keras.metrics.TrueNegatives(name='tn'),\n",
        "      keras.metrics.FalseNegatives(name='fn'), \n",
        "      keras.metrics.BinaryAccuracy(name='accuracy'),\n",
        "      keras.metrics.Precision(name='precision'),\n",
        "      keras.metrics.Recall(name='recall'),\n",
        "      keras.metrics.AUC(name='auc'),\n",
        "      keras.metrics.AUC(name='prc', curve='PR'), # precision-recall curve\n",
        "]"
      ],
      "metadata": {
        "id": "gy_ErAtqkxgt"
      },
      "execution_count": null,
      "outputs": []
    },
    {
      "cell_type": "markdown",
      "source": [
        "# 1- Load Data"
      ],
      "metadata": {
        "id": "N6bQjUrPXPaI"
      }
    },
    {
      "cell_type": "markdown",
      "source": [
        "## From Github"
      ],
      "metadata": {
        "id": "mvxmnCG2XR2Q"
      }
    },
    {
      "cell_type": "code",
      "source": [
        "s_aureus = pd.read_csv('https://media.githubusercontent.com/media/xlopez-ml/DL-AMR/master/datasets/driams_a/s_aureus_driams_a_bin3_2000_20000Da.csv')\n",
        "s_aureus.head()"
      ],
      "metadata": {
        "id": "_ims0UTDfoYe",
        "colab": {
          "base_uri": "https://localhost:8080/",
          "height": 577
        },
        "outputId": "9b3211a0-2f78-4ae2-a5c5-5cf5dfb42d15"
      },
      "execution_count": null,
      "outputs": [
        {
          "output_type": "execute_result",
          "data": {
            "text/plain": [
              "         2000        2003        2006         2009         2012        2015  \\\n",
              "0  951.428571  826.125000  944.857143   898.428571  1007.714286  936.000000   \n",
              "1  784.714286  701.125000  681.571429   762.142857   737.571429  733.000000   \n",
              "2   50.875000   89.142857   56.142857   151.285714   132.714286  110.428571   \n",
              "3  843.285714  816.500000  734.428571  1027.142857   979.428571  875.571429   \n",
              "4  307.857143  295.000000  246.714286   181.571429   258.000000  318.714286   \n",
              "\n",
              "         2018        2021        2024        2027  ...  19991  19994  \\\n",
              "0  828.571429  812.000000  782.714286  741.625000  ...   35.5   20.5   \n",
              "1  735.857143  659.571429  802.714286  554.375000  ...   30.0   40.5   \n",
              "2   47.285714   63.428571  100.375000   52.142857  ...    2.5   30.5   \n",
              "3  912.142857  714.428571  945.428571  886.500000  ...   15.5    8.0   \n",
              "4  295.714286  300.857143  278.142857  256.125000  ...   25.5   32.0   \n",
              "\n",
              "       19997                                  code                species  \\\n",
              "0  27.342857  029f0abf-1664-424f-88cb-11c9c8af2b11  Staphylococcus aureus   \n",
              "1  34.695238  08149af1-10f5-4f02-81d8-3d46d66d4a7a  Staphylococcus aureus   \n",
              "2  11.288462  08fe3876-ecee-4ddc-9aa9-a84f605757f7  Staphylococcus aureus   \n",
              "3  20.057143  0a9fdd4b-7180-47c0-849e-cb32d46da94c  Staphylococcus aureus   \n",
              "4  24.990476  0d82f4c4-473c-49d8-8c85-e3e36e96d047  Staphylococcus aureus   \n",
              "\n",
              "   Oxacillin  Clindamycin  Ceftriaxone  Ciprofloxacin  Fusidic acid  \n",
              "0        0.0          0.0          0.0            0.0           1.0  \n",
              "1        0.0          0.0          0.0            0.0           0.0  \n",
              "2        0.0          0.0          0.0            0.0           0.0  \n",
              "3        0.0          0.0          0.0            0.0           0.0  \n",
              "4        1.0          0.0          1.0            1.0           0.0  \n",
              "\n",
              "[5 rows x 6007 columns]"
            ],
            "text/html": [
              "\n",
              "  <div id=\"df-acfad1c6-5764-4e80-8193-1fd52e9c4afc\">\n",
              "    <div class=\"colab-df-container\">\n",
              "      <div>\n",
              "<style scoped>\n",
              "    .dataframe tbody tr th:only-of-type {\n",
              "        vertical-align: middle;\n",
              "    }\n",
              "\n",
              "    .dataframe tbody tr th {\n",
              "        vertical-align: top;\n",
              "    }\n",
              "\n",
              "    .dataframe thead th {\n",
              "        text-align: right;\n",
              "    }\n",
              "</style>\n",
              "<table border=\"1\" class=\"dataframe\">\n",
              "  <thead>\n",
              "    <tr style=\"text-align: right;\">\n",
              "      <th></th>\n",
              "      <th>2000</th>\n",
              "      <th>2003</th>\n",
              "      <th>2006</th>\n",
              "      <th>2009</th>\n",
              "      <th>2012</th>\n",
              "      <th>2015</th>\n",
              "      <th>2018</th>\n",
              "      <th>2021</th>\n",
              "      <th>2024</th>\n",
              "      <th>2027</th>\n",
              "      <th>...</th>\n",
              "      <th>19991</th>\n",
              "      <th>19994</th>\n",
              "      <th>19997</th>\n",
              "      <th>code</th>\n",
              "      <th>species</th>\n",
              "      <th>Oxacillin</th>\n",
              "      <th>Clindamycin</th>\n",
              "      <th>Ceftriaxone</th>\n",
              "      <th>Ciprofloxacin</th>\n",
              "      <th>Fusidic acid</th>\n",
              "    </tr>\n",
              "  </thead>\n",
              "  <tbody>\n",
              "    <tr>\n",
              "      <th>0</th>\n",
              "      <td>951.428571</td>\n",
              "      <td>826.125000</td>\n",
              "      <td>944.857143</td>\n",
              "      <td>898.428571</td>\n",
              "      <td>1007.714286</td>\n",
              "      <td>936.000000</td>\n",
              "      <td>828.571429</td>\n",
              "      <td>812.000000</td>\n",
              "      <td>782.714286</td>\n",
              "      <td>741.625000</td>\n",
              "      <td>...</td>\n",
              "      <td>35.5</td>\n",
              "      <td>20.5</td>\n",
              "      <td>27.342857</td>\n",
              "      <td>029f0abf-1664-424f-88cb-11c9c8af2b11</td>\n",
              "      <td>Staphylococcus aureus</td>\n",
              "      <td>0.0</td>\n",
              "      <td>0.0</td>\n",
              "      <td>0.0</td>\n",
              "      <td>0.0</td>\n",
              "      <td>1.0</td>\n",
              "    </tr>\n",
              "    <tr>\n",
              "      <th>1</th>\n",
              "      <td>784.714286</td>\n",
              "      <td>701.125000</td>\n",
              "      <td>681.571429</td>\n",
              "      <td>762.142857</td>\n",
              "      <td>737.571429</td>\n",
              "      <td>733.000000</td>\n",
              "      <td>735.857143</td>\n",
              "      <td>659.571429</td>\n",
              "      <td>802.714286</td>\n",
              "      <td>554.375000</td>\n",
              "      <td>...</td>\n",
              "      <td>30.0</td>\n",
              "      <td>40.5</td>\n",
              "      <td>34.695238</td>\n",
              "      <td>08149af1-10f5-4f02-81d8-3d46d66d4a7a</td>\n",
              "      <td>Staphylococcus aureus</td>\n",
              "      <td>0.0</td>\n",
              "      <td>0.0</td>\n",
              "      <td>0.0</td>\n",
              "      <td>0.0</td>\n",
              "      <td>0.0</td>\n",
              "    </tr>\n",
              "    <tr>\n",
              "      <th>2</th>\n",
              "      <td>50.875000</td>\n",
              "      <td>89.142857</td>\n",
              "      <td>56.142857</td>\n",
              "      <td>151.285714</td>\n",
              "      <td>132.714286</td>\n",
              "      <td>110.428571</td>\n",
              "      <td>47.285714</td>\n",
              "      <td>63.428571</td>\n",
              "      <td>100.375000</td>\n",
              "      <td>52.142857</td>\n",
              "      <td>...</td>\n",
              "      <td>2.5</td>\n",
              "      <td>30.5</td>\n",
              "      <td>11.288462</td>\n",
              "      <td>08fe3876-ecee-4ddc-9aa9-a84f605757f7</td>\n",
              "      <td>Staphylococcus aureus</td>\n",
              "      <td>0.0</td>\n",
              "      <td>0.0</td>\n",
              "      <td>0.0</td>\n",
              "      <td>0.0</td>\n",
              "      <td>0.0</td>\n",
              "    </tr>\n",
              "    <tr>\n",
              "      <th>3</th>\n",
              "      <td>843.285714</td>\n",
              "      <td>816.500000</td>\n",
              "      <td>734.428571</td>\n",
              "      <td>1027.142857</td>\n",
              "      <td>979.428571</td>\n",
              "      <td>875.571429</td>\n",
              "      <td>912.142857</td>\n",
              "      <td>714.428571</td>\n",
              "      <td>945.428571</td>\n",
              "      <td>886.500000</td>\n",
              "      <td>...</td>\n",
              "      <td>15.5</td>\n",
              "      <td>8.0</td>\n",
              "      <td>20.057143</td>\n",
              "      <td>0a9fdd4b-7180-47c0-849e-cb32d46da94c</td>\n",
              "      <td>Staphylococcus aureus</td>\n",
              "      <td>0.0</td>\n",
              "      <td>0.0</td>\n",
              "      <td>0.0</td>\n",
              "      <td>0.0</td>\n",
              "      <td>0.0</td>\n",
              "    </tr>\n",
              "    <tr>\n",
              "      <th>4</th>\n",
              "      <td>307.857143</td>\n",
              "      <td>295.000000</td>\n",
              "      <td>246.714286</td>\n",
              "      <td>181.571429</td>\n",
              "      <td>258.000000</td>\n",
              "      <td>318.714286</td>\n",
              "      <td>295.714286</td>\n",
              "      <td>300.857143</td>\n",
              "      <td>278.142857</td>\n",
              "      <td>256.125000</td>\n",
              "      <td>...</td>\n",
              "      <td>25.5</td>\n",
              "      <td>32.0</td>\n",
              "      <td>24.990476</td>\n",
              "      <td>0d82f4c4-473c-49d8-8c85-e3e36e96d047</td>\n",
              "      <td>Staphylococcus aureus</td>\n",
              "      <td>1.0</td>\n",
              "      <td>0.0</td>\n",
              "      <td>1.0</td>\n",
              "      <td>1.0</td>\n",
              "      <td>0.0</td>\n",
              "    </tr>\n",
              "  </tbody>\n",
              "</table>\n",
              "<p>5 rows × 6007 columns</p>\n",
              "</div>\n",
              "      <button class=\"colab-df-convert\" onclick=\"convertToInteractive('df-acfad1c6-5764-4e80-8193-1fd52e9c4afc')\"\n",
              "              title=\"Convert this dataframe to an interactive table.\"\n",
              "              style=\"display:none;\">\n",
              "        \n",
              "  <svg xmlns=\"http://www.w3.org/2000/svg\" height=\"24px\"viewBox=\"0 0 24 24\"\n",
              "       width=\"24px\">\n",
              "    <path d=\"M0 0h24v24H0V0z\" fill=\"none\"/>\n",
              "    <path d=\"M18.56 5.44l.94 2.06.94-2.06 2.06-.94-2.06-.94-.94-2.06-.94 2.06-2.06.94zm-11 1L8.5 8.5l.94-2.06 2.06-.94-2.06-.94L8.5 2.5l-.94 2.06-2.06.94zm10 10l.94 2.06.94-2.06 2.06-.94-2.06-.94-.94-2.06-.94 2.06-2.06.94z\"/><path d=\"M17.41 7.96l-1.37-1.37c-.4-.4-.92-.59-1.43-.59-.52 0-1.04.2-1.43.59L10.3 9.45l-7.72 7.72c-.78.78-.78 2.05 0 2.83L4 21.41c.39.39.9.59 1.41.59.51 0 1.02-.2 1.41-.59l7.78-7.78 2.81-2.81c.8-.78.8-2.07 0-2.86zM5.41 20L4 18.59l7.72-7.72 1.47 1.35L5.41 20z\"/>\n",
              "  </svg>\n",
              "      </button>\n",
              "      \n",
              "  <style>\n",
              "    .colab-df-container {\n",
              "      display:flex;\n",
              "      flex-wrap:wrap;\n",
              "      gap: 12px;\n",
              "    }\n",
              "\n",
              "    .colab-df-convert {\n",
              "      background-color: #E8F0FE;\n",
              "      border: none;\n",
              "      border-radius: 50%;\n",
              "      cursor: pointer;\n",
              "      display: none;\n",
              "      fill: #1967D2;\n",
              "      height: 32px;\n",
              "      padding: 0 0 0 0;\n",
              "      width: 32px;\n",
              "    }\n",
              "\n",
              "    .colab-df-convert:hover {\n",
              "      background-color: #E2EBFA;\n",
              "      box-shadow: 0px 1px 2px rgba(60, 64, 67, 0.3), 0px 1px 3px 1px rgba(60, 64, 67, 0.15);\n",
              "      fill: #174EA6;\n",
              "    }\n",
              "\n",
              "    [theme=dark] .colab-df-convert {\n",
              "      background-color: #3B4455;\n",
              "      fill: #D2E3FC;\n",
              "    }\n",
              "\n",
              "    [theme=dark] .colab-df-convert:hover {\n",
              "      background-color: #434B5C;\n",
              "      box-shadow: 0px 1px 3px 1px rgba(0, 0, 0, 0.15);\n",
              "      filter: drop-shadow(0px 1px 2px rgba(0, 0, 0, 0.3));\n",
              "      fill: #FFFFFF;\n",
              "    }\n",
              "  </style>\n",
              "\n",
              "      <script>\n",
              "        const buttonEl =\n",
              "          document.querySelector('#df-acfad1c6-5764-4e80-8193-1fd52e9c4afc button.colab-df-convert');\n",
              "        buttonEl.style.display =\n",
              "          google.colab.kernel.accessAllowed ? 'block' : 'none';\n",
              "\n",
              "        async function convertToInteractive(key) {\n",
              "          const element = document.querySelector('#df-acfad1c6-5764-4e80-8193-1fd52e9c4afc');\n",
              "          const dataTable =\n",
              "            await google.colab.kernel.invokeFunction('convertToInteractive',\n",
              "                                                     [key], {});\n",
              "          if (!dataTable) return;\n",
              "\n",
              "          const docLinkHtml = 'Like what you see? Visit the ' +\n",
              "            '<a target=\"_blank\" href=https://colab.research.google.com/notebooks/data_table.ipynb>data table notebook</a>'\n",
              "            + ' to learn more about interactive tables.';\n",
              "          element.innerHTML = '';\n",
              "          dataTable['output_type'] = 'display_data';\n",
              "          await google.colab.output.renderOutput(dataTable, element);\n",
              "          const docLink = document.createElement('div');\n",
              "          docLink.innerHTML = docLinkHtml;\n",
              "          element.appendChild(docLink);\n",
              "        }\n",
              "      </script>\n",
              "    </div>\n",
              "  </div>\n",
              "  "
            ]
          },
          "metadata": {},
          "execution_count": 41
        }
      ]
    },
    {
      "cell_type": "markdown",
      "source": [
        "## From Google Drive"
      ],
      "metadata": {
        "id": "yzP-qKf8XVOg"
      }
    },
    {
      "cell_type": "code",
      "source": [
        "from google.colab import drive\n",
        "drive.mount('/content/drive')\n",
        "s_aureus = pd.read_csv('https://media.githubusercontent.com/media/xlopez-ml/DL-AMR/master/datasets/driams_a/s_aureus_driams_a_bin3_2000_20000Da.csv')\n",
        "s_aureus.head()"
      ],
      "metadata": {
        "id": "fGnC0VTDXZcP"
      },
      "execution_count": null,
      "outputs": []
    },
    {
      "cell_type": "markdown",
      "source": [
        "## Upload from local storage"
      ],
      "metadata": {
        "id": "GhhnXhS0XZ1w"
      }
    },
    {
      "cell_type": "code",
      "source": [
        "from google.colab import files\n",
        "import io\n",
        "\n",
        "uploaded = files.upload()\n",
        "dataset = pd.read_csv(io.BytesIO(uploaded['dataset.csv']))\n",
        "dataset.head()"
      ],
      "metadata": {
        "id": "HOj0B-LRXeJZ"
      },
      "execution_count": null,
      "outputs": []
    },
    {
      "cell_type": "markdown",
      "source": [
        "# Preprocessing Data"
      ],
      "metadata": {
        "id": "NhURWBqqXoQp"
      }
    },
    {
      "cell_type": "code",
      "source": [
        "s_aureus.drop(columns=['species','code'], inplace=True) # Eliminamos la columna que contiene un index y que incluye los codigos de los archivos de masas\n",
        "# Reemplazamos los perfiles de resistencia (variables dependientes) por 0 y 1\n",
        "#s_aureus.dropna(axis=0, how=\"any\", inplace=True)"
      ],
      "metadata": {
        "id": "koTco5gulH3G"
      },
      "execution_count": null,
      "outputs": []
    },
    {
      "cell_type": "code",
      "source": [
        "s_aureus_ceftriaxone = s_aureus.drop(columns=['Oxacillin', 'Clindamycin', 'Ceftriaxone', 'Fusidic acid'])\n",
        "#ceftriaxone.dropna(axis=0, how=\"any\", inplace=True)\n",
        "s_aureus_ceftriaxone.dropna(axis=0, how=\"any\", inplace=True)\n",
        "s_aureus_ceftriaxone.shape"
      ],
      "metadata": {
        "colab": {
          "base_uri": "https://localhost:8080/"
        },
        "id": "orhVwzFGkic-",
        "outputId": "9b6953b3-853c-4c51-996b-466b786eb5a5"
      },
      "execution_count": null,
      "outputs": [
        {
          "output_type": "execute_result",
          "data": {
            "text/plain": [
              "(3757, 6001)"
            ]
          },
          "metadata": {},
          "execution_count": 43
        }
      ]
    },
    {
      "cell_type": "code",
      "source": [
        "s_aureus_ceftriaxone.head()"
      ],
      "metadata": {
        "colab": {
          "base_uri": "https://localhost:8080/",
          "height": 299
        },
        "id": "wZUfupfGtc7O",
        "outputId": "5f472846-6e78-43e5-b1e8-fd09466592af"
      },
      "execution_count": null,
      "outputs": [
        {
          "output_type": "execute_result",
          "data": {
            "text/plain": [
              "         2000        2003        2006         2009         2012        2015  \\\n",
              "0  951.428571  826.125000  944.857143   898.428571  1007.714286  936.000000   \n",
              "1  784.714286  701.125000  681.571429   762.142857   737.571429  733.000000   \n",
              "2   50.875000   89.142857   56.142857   151.285714   132.714286  110.428571   \n",
              "3  843.285714  816.500000  734.428571  1027.142857   979.428571  875.571429   \n",
              "4  307.857143  295.000000  246.714286   181.571429   258.000000  318.714286   \n",
              "\n",
              "         2018        2021        2024        2027  ...      19973  19976  \\\n",
              "0  828.571429  812.000000  782.714286  741.625000  ...  14.333333   24.0   \n",
              "1  735.857143  659.571429  802.714286  554.375000  ...  15.666667   39.0   \n",
              "2   47.285714   63.428571  100.375000   52.142857  ...  20.666667   17.0   \n",
              "3  912.142857  714.428571  945.428571  886.500000  ...  22.333333   33.0   \n",
              "4  295.714286  300.857143  278.142857  256.125000  ...  26.666667   25.5   \n",
              "\n",
              "   19979  19982      19985  19988  19991  19994      19997  Ciprofloxacin  \n",
              "0   68.0   19.0  19.000000   50.0   35.5   20.5  27.342857            0.0  \n",
              "1   19.5   42.0  69.666667   31.0   30.0   40.5  34.695238            0.0  \n",
              "2    2.0   18.0  18.000000   11.5    2.5   30.5  11.288462            0.0  \n",
              "3   29.0   14.5  21.666667   24.5   15.5    8.0  20.057143            0.0  \n",
              "4   18.0   53.5  23.000000   24.5   25.5   32.0  24.990476            1.0  \n",
              "\n",
              "[5 rows x 6001 columns]"
            ],
            "text/html": [
              "\n",
              "  <div id=\"df-e9dfa6ee-4321-4ce1-a86e-e0512f6e1c5c\">\n",
              "    <div class=\"colab-df-container\">\n",
              "      <div>\n",
              "<style scoped>\n",
              "    .dataframe tbody tr th:only-of-type {\n",
              "        vertical-align: middle;\n",
              "    }\n",
              "\n",
              "    .dataframe tbody tr th {\n",
              "        vertical-align: top;\n",
              "    }\n",
              "\n",
              "    .dataframe thead th {\n",
              "        text-align: right;\n",
              "    }\n",
              "</style>\n",
              "<table border=\"1\" class=\"dataframe\">\n",
              "  <thead>\n",
              "    <tr style=\"text-align: right;\">\n",
              "      <th></th>\n",
              "      <th>2000</th>\n",
              "      <th>2003</th>\n",
              "      <th>2006</th>\n",
              "      <th>2009</th>\n",
              "      <th>2012</th>\n",
              "      <th>2015</th>\n",
              "      <th>2018</th>\n",
              "      <th>2021</th>\n",
              "      <th>2024</th>\n",
              "      <th>2027</th>\n",
              "      <th>...</th>\n",
              "      <th>19973</th>\n",
              "      <th>19976</th>\n",
              "      <th>19979</th>\n",
              "      <th>19982</th>\n",
              "      <th>19985</th>\n",
              "      <th>19988</th>\n",
              "      <th>19991</th>\n",
              "      <th>19994</th>\n",
              "      <th>19997</th>\n",
              "      <th>Ciprofloxacin</th>\n",
              "    </tr>\n",
              "  </thead>\n",
              "  <tbody>\n",
              "    <tr>\n",
              "      <th>0</th>\n",
              "      <td>951.428571</td>\n",
              "      <td>826.125000</td>\n",
              "      <td>944.857143</td>\n",
              "      <td>898.428571</td>\n",
              "      <td>1007.714286</td>\n",
              "      <td>936.000000</td>\n",
              "      <td>828.571429</td>\n",
              "      <td>812.000000</td>\n",
              "      <td>782.714286</td>\n",
              "      <td>741.625000</td>\n",
              "      <td>...</td>\n",
              "      <td>14.333333</td>\n",
              "      <td>24.0</td>\n",
              "      <td>68.0</td>\n",
              "      <td>19.0</td>\n",
              "      <td>19.000000</td>\n",
              "      <td>50.0</td>\n",
              "      <td>35.5</td>\n",
              "      <td>20.5</td>\n",
              "      <td>27.342857</td>\n",
              "      <td>0.0</td>\n",
              "    </tr>\n",
              "    <tr>\n",
              "      <th>1</th>\n",
              "      <td>784.714286</td>\n",
              "      <td>701.125000</td>\n",
              "      <td>681.571429</td>\n",
              "      <td>762.142857</td>\n",
              "      <td>737.571429</td>\n",
              "      <td>733.000000</td>\n",
              "      <td>735.857143</td>\n",
              "      <td>659.571429</td>\n",
              "      <td>802.714286</td>\n",
              "      <td>554.375000</td>\n",
              "      <td>...</td>\n",
              "      <td>15.666667</td>\n",
              "      <td>39.0</td>\n",
              "      <td>19.5</td>\n",
              "      <td>42.0</td>\n",
              "      <td>69.666667</td>\n",
              "      <td>31.0</td>\n",
              "      <td>30.0</td>\n",
              "      <td>40.5</td>\n",
              "      <td>34.695238</td>\n",
              "      <td>0.0</td>\n",
              "    </tr>\n",
              "    <tr>\n",
              "      <th>2</th>\n",
              "      <td>50.875000</td>\n",
              "      <td>89.142857</td>\n",
              "      <td>56.142857</td>\n",
              "      <td>151.285714</td>\n",
              "      <td>132.714286</td>\n",
              "      <td>110.428571</td>\n",
              "      <td>47.285714</td>\n",
              "      <td>63.428571</td>\n",
              "      <td>100.375000</td>\n",
              "      <td>52.142857</td>\n",
              "      <td>...</td>\n",
              "      <td>20.666667</td>\n",
              "      <td>17.0</td>\n",
              "      <td>2.0</td>\n",
              "      <td>18.0</td>\n",
              "      <td>18.000000</td>\n",
              "      <td>11.5</td>\n",
              "      <td>2.5</td>\n",
              "      <td>30.5</td>\n",
              "      <td>11.288462</td>\n",
              "      <td>0.0</td>\n",
              "    </tr>\n",
              "    <tr>\n",
              "      <th>3</th>\n",
              "      <td>843.285714</td>\n",
              "      <td>816.500000</td>\n",
              "      <td>734.428571</td>\n",
              "      <td>1027.142857</td>\n",
              "      <td>979.428571</td>\n",
              "      <td>875.571429</td>\n",
              "      <td>912.142857</td>\n",
              "      <td>714.428571</td>\n",
              "      <td>945.428571</td>\n",
              "      <td>886.500000</td>\n",
              "      <td>...</td>\n",
              "      <td>22.333333</td>\n",
              "      <td>33.0</td>\n",
              "      <td>29.0</td>\n",
              "      <td>14.5</td>\n",
              "      <td>21.666667</td>\n",
              "      <td>24.5</td>\n",
              "      <td>15.5</td>\n",
              "      <td>8.0</td>\n",
              "      <td>20.057143</td>\n",
              "      <td>0.0</td>\n",
              "    </tr>\n",
              "    <tr>\n",
              "      <th>4</th>\n",
              "      <td>307.857143</td>\n",
              "      <td>295.000000</td>\n",
              "      <td>246.714286</td>\n",
              "      <td>181.571429</td>\n",
              "      <td>258.000000</td>\n",
              "      <td>318.714286</td>\n",
              "      <td>295.714286</td>\n",
              "      <td>300.857143</td>\n",
              "      <td>278.142857</td>\n",
              "      <td>256.125000</td>\n",
              "      <td>...</td>\n",
              "      <td>26.666667</td>\n",
              "      <td>25.5</td>\n",
              "      <td>18.0</td>\n",
              "      <td>53.5</td>\n",
              "      <td>23.000000</td>\n",
              "      <td>24.5</td>\n",
              "      <td>25.5</td>\n",
              "      <td>32.0</td>\n",
              "      <td>24.990476</td>\n",
              "      <td>1.0</td>\n",
              "    </tr>\n",
              "  </tbody>\n",
              "</table>\n",
              "<p>5 rows × 6001 columns</p>\n",
              "</div>\n",
              "      <button class=\"colab-df-convert\" onclick=\"convertToInteractive('df-e9dfa6ee-4321-4ce1-a86e-e0512f6e1c5c')\"\n",
              "              title=\"Convert this dataframe to an interactive table.\"\n",
              "              style=\"display:none;\">\n",
              "        \n",
              "  <svg xmlns=\"http://www.w3.org/2000/svg\" height=\"24px\"viewBox=\"0 0 24 24\"\n",
              "       width=\"24px\">\n",
              "    <path d=\"M0 0h24v24H0V0z\" fill=\"none\"/>\n",
              "    <path d=\"M18.56 5.44l.94 2.06.94-2.06 2.06-.94-2.06-.94-.94-2.06-.94 2.06-2.06.94zm-11 1L8.5 8.5l.94-2.06 2.06-.94-2.06-.94L8.5 2.5l-.94 2.06-2.06.94zm10 10l.94 2.06.94-2.06 2.06-.94-2.06-.94-.94-2.06-.94 2.06-2.06.94z\"/><path d=\"M17.41 7.96l-1.37-1.37c-.4-.4-.92-.59-1.43-.59-.52 0-1.04.2-1.43.59L10.3 9.45l-7.72 7.72c-.78.78-.78 2.05 0 2.83L4 21.41c.39.39.9.59 1.41.59.51 0 1.02-.2 1.41-.59l7.78-7.78 2.81-2.81c.8-.78.8-2.07 0-2.86zM5.41 20L4 18.59l7.72-7.72 1.47 1.35L5.41 20z\"/>\n",
              "  </svg>\n",
              "      </button>\n",
              "      \n",
              "  <style>\n",
              "    .colab-df-container {\n",
              "      display:flex;\n",
              "      flex-wrap:wrap;\n",
              "      gap: 12px;\n",
              "    }\n",
              "\n",
              "    .colab-df-convert {\n",
              "      background-color: #E8F0FE;\n",
              "      border: none;\n",
              "      border-radius: 50%;\n",
              "      cursor: pointer;\n",
              "      display: none;\n",
              "      fill: #1967D2;\n",
              "      height: 32px;\n",
              "      padding: 0 0 0 0;\n",
              "      width: 32px;\n",
              "    }\n",
              "\n",
              "    .colab-df-convert:hover {\n",
              "      background-color: #E2EBFA;\n",
              "      box-shadow: 0px 1px 2px rgba(60, 64, 67, 0.3), 0px 1px 3px 1px rgba(60, 64, 67, 0.15);\n",
              "      fill: #174EA6;\n",
              "    }\n",
              "\n",
              "    [theme=dark] .colab-df-convert {\n",
              "      background-color: #3B4455;\n",
              "      fill: #D2E3FC;\n",
              "    }\n",
              "\n",
              "    [theme=dark] .colab-df-convert:hover {\n",
              "      background-color: #434B5C;\n",
              "      box-shadow: 0px 1px 3px 1px rgba(0, 0, 0, 0.15);\n",
              "      filter: drop-shadow(0px 1px 2px rgba(0, 0, 0, 0.3));\n",
              "      fill: #FFFFFF;\n",
              "    }\n",
              "  </style>\n",
              "\n",
              "      <script>\n",
              "        const buttonEl =\n",
              "          document.querySelector('#df-e9dfa6ee-4321-4ce1-a86e-e0512f6e1c5c button.colab-df-convert');\n",
              "        buttonEl.style.display =\n",
              "          google.colab.kernel.accessAllowed ? 'block' : 'none';\n",
              "\n",
              "        async function convertToInteractive(key) {\n",
              "          const element = document.querySelector('#df-e9dfa6ee-4321-4ce1-a86e-e0512f6e1c5c');\n",
              "          const dataTable =\n",
              "            await google.colab.kernel.invokeFunction('convertToInteractive',\n",
              "                                                     [key], {});\n",
              "          if (!dataTable) return;\n",
              "\n",
              "          const docLinkHtml = 'Like what you see? Visit the ' +\n",
              "            '<a target=\"_blank\" href=https://colab.research.google.com/notebooks/data_table.ipynb>data table notebook</a>'\n",
              "            + ' to learn more about interactive tables.';\n",
              "          element.innerHTML = '';\n",
              "          dataTable['output_type'] = 'display_data';\n",
              "          await google.colab.output.renderOutput(dataTable, element);\n",
              "          const docLink = document.createElement('div');\n",
              "          docLink.innerHTML = docLinkHtml;\n",
              "          element.appendChild(docLink);\n",
              "        }\n",
              "      </script>\n",
              "    </div>\n",
              "  </div>\n",
              "  "
            ]
          },
          "metadata": {},
          "execution_count": 44
        }
      ]
    },
    {
      "cell_type": "code",
      "source": [
        "X = s_aureus_ceftriaxone.iloc[:, 0:6000].values  # variables independientes (espectros de masa)\n",
        "y = s_aureus_ceftriaxone.iloc[:, 6000].values    # variable dependientes (resistencia a ciprofloxacin)\n",
        "X = np.asarray(X).astype(np.float32)\n",
        "y = np.asarray(y).astype(np.float32)"
      ],
      "metadata": {
        "id": "-4dAtvUEkibF"
      },
      "execution_count": null,
      "outputs": []
    },
    {
      "cell_type": "code",
      "source": [
        "X_train, X_test, y_train, y_test_ciprofloxacin = train_test_split(X, y, test_size = 0.2, random_state = 0, stratify=y)"
      ],
      "metadata": {
        "id": "ioZIrUNqlgP9"
      },
      "execution_count": null,
      "outputs": []
    },
    {
      "cell_type": "code",
      "source": [
        "scaler=Normalizer(norm='max')\n",
        "sc_X = scaler\n",
        "X_train = sc_X.fit_transform(X_train)\n",
        "X_test = sc_X.transform(X_test)"
      ],
      "metadata": {
        "id": "Cz1ZnhEykiY9"
      },
      "execution_count": null,
      "outputs": []
    },
    {
      "cell_type": "code",
      "source": [
        "sample_size = X_train.shape[0] # numero de muestras en el set de datos\n",
        "time_steps  = X_train.shape[1] # numero de atributos en el set de datos\n",
        "input_dimension = 1            #\n",
        "\n",
        "X_train_reshaped = X_train.reshape(sample_size,time_steps,input_dimension)\n",
        "X_test_reshaped = X_test.reshape(X_test.shape[0],X_test.shape[1],1)"
      ],
      "metadata": {
        "id": "HiHCUFo-kiW9"
      },
      "execution_count": null,
      "outputs": []
    },
    {
      "cell_type": "code",
      "source": [
        "reduce_lr = ReduceLROnPlateau(monitor='val_loss', factor=0.1, patience=3, min_lr=0.000001)\n",
        "early_st = EarlyStopping(monitor='val_loss', patience=4, restore_best_weights=True)\n",
        "\n",
        "n_timesteps = X_train_reshaped.shape[1] #\n",
        "n_features  = X_train_reshaped.shape[2] #"
      ],
      "metadata": {
        "id": "VEuHRBvAlw79"
      },
      "execution_count": null,
      "outputs": []
    },
    {
      "cell_type": "markdown",
      "source": [
        "# Create and fit DeepAMR model"
      ],
      "metadata": {
        "id": "hBf6W9iPXz3p"
      }
    },
    {
      "cell_type": "code",
      "source": [
        "model = Sequential(name=\"Modelo_s_aureus_ciprofloxacin\")\n",
        "init_mode = 'normal'\n",
        "model.add(Conv1D(filters=(64), kernel_size=(16), input_shape = (n_timesteps,n_features), name='Conv_1'))\n",
        "model.add(BatchNormalization())\n",
        "model.add(Activation('relu'))\n",
        "model.add(MaxPooling1D(pool_size=2, name=\"MaxPooling1D\"))\n",
        "\n",
        "model.add(Conv1D(filters=(128), kernel_size=(8),kernel_initializer=init_mode, kernel_regularizer=regularizers.l2(0.0001),  name='Conv_2'))\n",
        "model.add(BatchNormalization())\n",
        "model.add(Activation('relu'))\n",
        "model.add(MaxPooling1D(pool_size=2, name=\"MaxPooling1D1\"))\n",
        "\n",
        "model.add(Conv1D(filters=(256), kernel_size=(4),kernel_initializer=init_mode,kernel_regularizer=regularizers.l2(0.0001),   name='Conv_3'))\n",
        "model.add(BatchNormalization())\n",
        "model.add(Activation('relu'))\n",
        "model.add(MaxPooling1D(pool_size=2, name=\"MaxPooling1D2\"))\n",
        "\n",
        "model.add(Conv1D(filters=(256), kernel_size=(2),kernel_initializer=init_mode, kernel_regularizer=regularizers.l2(0.0001),   name='Conv_3l'))\n",
        "model.add(BatchNormalization())\n",
        "model.add(Activation('relu'))\n",
        "model.add(MaxPooling1D(pool_size=2, name=\"MaxPooling1D2dl\"))\n",
        "\n",
        "model.add(Flatten())\n",
        "model.add(Dropout(0.65))\n",
        "model.add(Dense(256, activation='relu',kernel_initializer=init_mode, kernel_regularizer=regularizers.l2(0.0001), name=\"fully_connected_0\"))\n",
        "model.add(Dense(64, activation='relu',kernel_initializer=init_mode, kernel_regularizer=regularizers.l2(0.0001), name=\"fully_connected_1\"))\n",
        "model.add(Dense(64, activation='relu',kernel_initializer=init_mode, kernel_regularizer=regularizers.l2(0.0001),  name=\"fully_connected_2\"))\n",
        "model.add(Dense(n_features, activation='sigmoid', name=\"OUT_Layer\"))\n",
        "\n",
        "model.compile(optimizer = Adam(learning_rate=0.0001), loss = 'binary_crossentropy',  metrics=METRICS)\n",
        "model.summary()"
      ],
      "metadata": {
        "colab": {
          "base_uri": "https://localhost:8080/"
        },
        "id": "AlJHRRzlkiH9",
        "outputId": "f8ba6784-1bbb-4ce8-d5f6-a919d5b21b30"
      },
      "execution_count": null,
      "outputs": [
        {
          "output_type": "stream",
          "name": "stdout",
          "text": [
            "Model: \"Modelo_s_aureus_ciprofloxacin\"\n",
            "_________________________________________________________________\n",
            " Layer (type)                Output Shape              Param #   \n",
            "=================================================================\n",
            " Conv_1 (Conv1D)             (None, 5984, 64)          1152      \n",
            "                                                                 \n",
            " batch_normalization_4 (Batc  (None, 5984, 64)         256       \n",
            " hNormalization)                                                 \n",
            "                                                                 \n",
            " activation_4 (Activation)   (None, 5984, 64)          0         \n",
            "                                                                 \n",
            " MaxPooling1D (MaxPooling1D)  (None, 2992, 64)         0         \n",
            "                                                                 \n",
            " Conv_2 (Conv1D)             (None, 2984, 128)         73856     \n",
            "                                                                 \n",
            " batch_normalization_5 (Batc  (None, 2984, 128)        512       \n",
            " hNormalization)                                                 \n",
            "                                                                 \n",
            " activation_5 (Activation)   (None, 2984, 128)         0         \n",
            "                                                                 \n",
            " MaxPooling1D1 (MaxPooling1D  (None, 1492, 128)        0         \n",
            " )                                                               \n",
            "                                                                 \n",
            " Conv_3 (Conv1D)             (None, 1488, 256)         164096    \n",
            "                                                                 \n",
            " batch_normalization_6 (Batc  (None, 1488, 256)        1024      \n",
            " hNormalization)                                                 \n",
            "                                                                 \n",
            " activation_6 (Activation)   (None, 1488, 256)         0         \n",
            "                                                                 \n",
            " MaxPooling1D2 (MaxPooling1D  (None, 744, 256)         0         \n",
            " )                                                               \n",
            "                                                                 \n",
            " Conv_3l (Conv1D)            (None, 740, 256)          327936    \n",
            "                                                                 \n",
            " batch_normalization_7 (Batc  (None, 740, 256)         1024      \n",
            " hNormalization)                                                 \n",
            "                                                                 \n",
            " activation_7 (Activation)   (None, 740, 256)          0         \n",
            "                                                                 \n",
            " MaxPooling1D2dl (MaxPooling  (None, 370, 256)         0         \n",
            " 1D)                                                             \n",
            "                                                                 \n",
            " flatten_1 (Flatten)         (None, 94720)             0         \n",
            "                                                                 \n",
            " dropout_1 (Dropout)         (None, 94720)             0         \n",
            "                                                                 \n",
            " fully_connected_0 (Dense)   (None, 256)               24248576  \n",
            "                                                                 \n",
            " fully_connected_1 (Dense)   (None, 64)                16448     \n",
            "                                                                 \n",
            " fully_connected_2 (Dense)   (None, 64)                4160      \n",
            "                                                                 \n",
            " OUT_Layer (Dense)           (None, 1)                 65        \n",
            "                                                                 \n",
            "=================================================================\n",
            "Total params: 24,839,105\n",
            "Trainable params: 24,837,697\n",
            "Non-trainable params: 1,408\n",
            "_________________________________________________________________\n"
          ]
        }
      ]
    },
    {
      "cell_type": "code",
      "source": [
        "history = model.fit(X_train_reshaped, y_train, epochs=10, batch_size=10, verbose=1, validation_split=0.1, callbacks=[reduce_lr,early_st])\n"
      ],
      "metadata": {
        "colab": {
          "base_uri": "https://localhost:8080/"
        },
        "id": "lDksoJagl3H9",
        "outputId": "e80174f7-6070-4389-ba5c-7b548caf9139"
      },
      "execution_count": null,
      "outputs": [
        {
          "output_type": "stream",
          "name": "stdout",
          "text": [
            "Epoch 1/100\n",
            "271/271 [==============================] - 16s 49ms/step - loss: 6.2075 - tp: 17.0000 - fp: 60.0000 - tn: 2191.0000 - fn: 436.0000 - accuracy: 0.8166 - precision: 0.2208 - recall: 0.0375 - auc: 0.5269 - prc: 0.1804 - val_loss: 5.7579 - val_tp: 0.0000e+00 - val_fp: 0.0000e+00 - val_tn: 261.0000 - val_fn: 40.0000 - val_accuracy: 0.8671 - val_precision: 0.0000e+00 - val_recall: 0.0000e+00 - val_auc: 0.5274 - val_prc: 0.1442 - lr: 1.0000e-04\n",
            "Epoch 2/100\n",
            "271/271 [==============================] - 11s 42ms/step - loss: 5.4723 - tp: 3.0000 - fp: 8.0000 - tn: 2243.0000 - fn: 450.0000 - accuracy: 0.8306 - precision: 0.2727 - recall: 0.0066 - auc: 0.5638 - prc: 0.1974 - val_loss: 5.2145 - val_tp: 0.0000e+00 - val_fp: 0.0000e+00 - val_tn: 261.0000 - val_fn: 40.0000 - val_accuracy: 0.8671 - val_precision: 0.0000e+00 - val_recall: 0.0000e+00 - val_auc: 0.6211 - val_prc: 0.2327 - lr: 1.0000e-04\n",
            "Epoch 3/100\n",
            "271/271 [==============================] - 11s 42ms/step - loss: 5.0024 - tp: 0.0000e+00 - fp: 5.0000 - tn: 2246.0000 - fn: 453.0000 - accuracy: 0.8306 - precision: 0.0000e+00 - recall: 0.0000e+00 - auc: 0.5671 - prc: 0.1940 - val_loss: 4.7407 - val_tp: 0.0000e+00 - val_fp: 0.0000e+00 - val_tn: 261.0000 - val_fn: 40.0000 - val_accuracy: 0.8671 - val_precision: 0.0000e+00 - val_recall: 0.0000e+00 - val_auc: 0.5721 - val_prc: 0.1530 - lr: 1.0000e-04\n",
            "Epoch 4/100\n",
            "271/271 [==============================] - 11s 42ms/step - loss: 4.6133 - tp: 2.0000 - fp: 1.0000 - tn: 2250.0000 - fn: 451.0000 - accuracy: 0.8328 - precision: 0.6667 - recall: 0.0044 - auc: 0.6165 - prc: 0.2369 - val_loss: 4.3879 - val_tp: 0.0000e+00 - val_fp: 0.0000e+00 - val_tn: 261.0000 - val_fn: 40.0000 - val_accuracy: 0.8671 - val_precision: 0.0000e+00 - val_recall: 0.0000e+00 - val_auc: 0.6491 - val_prc: 0.1885 - lr: 1.0000e-04\n",
            "Epoch 5/100\n",
            "271/271 [==============================] - 11s 42ms/step - loss: 4.2826 - tp: 3.0000 - fp: 7.0000 - tn: 2244.0000 - fn: 450.0000 - accuracy: 0.8310 - precision: 0.3000 - recall: 0.0066 - auc: 0.6420 - prc: 0.2564 - val_loss: 4.0649 - val_tp: 0.0000e+00 - val_fp: 0.0000e+00 - val_tn: 261.0000 - val_fn: 40.0000 - val_accuracy: 0.8671 - val_precision: 0.0000e+00 - val_recall: 0.0000e+00 - val_auc: 0.6975 - val_prc: 0.2054 - lr: 1.0000e-04\n",
            "Epoch 6/100\n",
            "271/271 [==============================] - 12s 43ms/step - loss: 3.9821 - tp: 2.0000 - fp: 6.0000 - tn: 2245.0000 - fn: 451.0000 - accuracy: 0.8310 - precision: 0.2500 - recall: 0.0044 - auc: 0.6556 - prc: 0.2658 - val_loss: 3.7776 - val_tp: 0.0000e+00 - val_fp: 0.0000e+00 - val_tn: 261.0000 - val_fn: 40.0000 - val_accuracy: 0.8671 - val_precision: 0.0000e+00 - val_recall: 0.0000e+00 - val_auc: 0.7021 - val_prc: 0.2282 - lr: 1.0000e-04\n",
            "Epoch 7/100\n",
            "271/271 [==============================] - 12s 43ms/step - loss: 3.6979 - tp: 26.0000 - fp: 27.0000 - tn: 2224.0000 - fn: 427.0000 - accuracy: 0.8321 - precision: 0.4906 - recall: 0.0574 - auc: 0.6852 - prc: 0.3263 - val_loss: 3.5013 - val_tp: 0.0000e+00 - val_fp: 0.0000e+00 - val_tn: 261.0000 - val_fn: 40.0000 - val_accuracy: 0.8671 - val_precision: 0.0000e+00 - val_recall: 0.0000e+00 - val_auc: 0.7368 - val_prc: 0.3364 - lr: 1.0000e-04\n",
            "Epoch 8/100\n",
            "271/271 [==============================] - 12s 43ms/step - loss: 3.4389 - tp: 48.0000 - fp: 36.0000 - tn: 2215.0000 - fn: 405.0000 - accuracy: 0.8369 - precision: 0.5714 - recall: 0.1060 - auc: 0.7043 - prc: 0.3607 - val_loss: 3.2466 - val_tp: 3.0000 - val_fp: 0.0000e+00 - val_tn: 261.0000 - val_fn: 37.0000 - val_accuracy: 0.8771 - val_precision: 1.0000 - val_recall: 0.0750 - val_auc: 0.7739 - val_prc: 0.4132 - lr: 1.0000e-04\n",
            "Epoch 9/100\n",
            "271/271 [==============================] - 12s 43ms/step - loss: 3.1882 - tp: 65.0000 - fp: 32.0000 - tn: 2219.0000 - fn: 388.0000 - accuracy: 0.8447 - precision: 0.6701 - recall: 0.1435 - auc: 0.7368 - prc: 0.4133 - val_loss: 3.0298 - val_tp: 10.0000 - val_fp: 8.0000 - val_tn: 253.0000 - val_fn: 30.0000 - val_accuracy: 0.8738 - val_precision: 0.5556 - val_recall: 0.2500 - val_auc: 0.7870 - val_prc: 0.4612 - lr: 1.0000e-04\n",
            "Epoch 10/100\n",
            "271/271 [==============================] - 12s 43ms/step - loss: 2.9656 - tp: 74.0000 - fp: 45.0000 - tn: 2206.0000 - fn: 379.0000 - accuracy: 0.8432 - precision: 0.6218 - recall: 0.1634 - auc: 0.7500 - prc: 0.4382 - val_loss: 2.8756 - val_tp: 11.0000 - val_fp: 9.0000 - val_tn: 252.0000 - val_fn: 29.0000 - val_accuracy: 0.8738 - val_precision: 0.5500 - val_recall: 0.2750 - val_auc: 0.7702 - val_prc: 0.4800 - lr: 1.0000e-04\n",
            "Epoch 11/100\n",
            "271/271 [==============================] - 12s 43ms/step - loss: 2.7690 - tp: 82.0000 - fp: 35.0000 - tn: 2216.0000 - fn: 371.0000 - accuracy: 0.8499 - precision: 0.7009 - recall: 0.1810 - auc: 0.7347 - prc: 0.4316 - val_loss: 2.6314 - val_tp: 7.0000 - val_fp: 0.0000e+00 - val_tn: 261.0000 - val_fn: 33.0000 - val_accuracy: 0.8904 - val_precision: 1.0000 - val_recall: 0.1750 - val_auc: 0.7704 - val_prc: 0.4634 - lr: 1.0000e-04\n",
            "Epoch 12/100\n",
            "271/271 [==============================] - 12s 43ms/step - loss: 2.5688 - tp: 101.0000 - fp: 41.0000 - tn: 2210.0000 - fn: 352.0000 - accuracy: 0.8547 - precision: 0.7113 - recall: 0.2230 - auc: 0.7589 - prc: 0.4679 - val_loss: 2.4057 - val_tp: 8.0000 - val_fp: 2.0000 - val_tn: 259.0000 - val_fn: 32.0000 - val_accuracy: 0.8870 - val_precision: 0.8000 - val_recall: 0.2000 - val_auc: 0.8058 - val_prc: 0.5077 - lr: 1.0000e-04\n",
            "Epoch 13/100\n",
            "271/271 [==============================] - 12s 43ms/step - loss: 2.3961 - tp: 102.0000 - fp: 47.0000 - tn: 2204.0000 - fn: 351.0000 - accuracy: 0.8528 - precision: 0.6846 - recall: 0.2252 - auc: 0.7515 - prc: 0.4731 - val_loss: 2.2518 - val_tp: 7.0000 - val_fp: 0.0000e+00 - val_tn: 261.0000 - val_fn: 33.0000 - val_accuracy: 0.8904 - val_precision: 1.0000 - val_recall: 0.1750 - val_auc: 0.7736 - val_prc: 0.4867 - lr: 1.0000e-04\n",
            "Epoch 14/100\n",
            "271/271 [==============================] - 12s 43ms/step - loss: 2.2293 - tp: 114.0000 - fp: 51.0000 - tn: 2200.0000 - fn: 339.0000 - accuracy: 0.8558 - precision: 0.6909 - recall: 0.2517 - auc: 0.7704 - prc: 0.4840 - val_loss: 2.0986 - val_tp: 7.0000 - val_fp: 0.0000e+00 - val_tn: 261.0000 - val_fn: 33.0000 - val_accuracy: 0.8904 - val_precision: 1.0000 - val_recall: 0.1750 - val_auc: 0.7830 - val_prc: 0.4841 - lr: 1.0000e-04\n",
            "Epoch 15/100\n",
            "271/271 [==============================] - 12s 43ms/step - loss: 2.0760 - tp: 119.0000 - fp: 51.0000 - tn: 2200.0000 - fn: 334.0000 - accuracy: 0.8576 - precision: 0.7000 - recall: 0.2627 - auc: 0.7715 - prc: 0.5060 - val_loss: 1.9908 - val_tp: 12.0000 - val_fp: 10.0000 - val_tn: 251.0000 - val_fn: 28.0000 - val_accuracy: 0.8738 - val_precision: 0.5455 - val_recall: 0.3000 - val_auc: 0.7871 - val_prc: 0.5160 - lr: 1.0000e-04\n",
            "Epoch 16/100\n",
            "271/271 [==============================] - 12s 43ms/step - loss: 1.9429 - tp: 118.0000 - fp: 44.0000 - tn: 2207.0000 - fn: 335.0000 - accuracy: 0.8598 - precision: 0.7284 - recall: 0.2605 - auc: 0.7651 - prc: 0.5194 - val_loss: 1.8753 - val_tp: 15.0000 - val_fp: 16.0000 - val_tn: 245.0000 - val_fn: 25.0000 - val_accuracy: 0.8638 - val_precision: 0.4839 - val_recall: 0.3750 - val_auc: 0.8039 - val_prc: 0.5300 - lr: 1.0000e-04\n",
            "Epoch 17/100\n",
            "271/271 [==============================] - 12s 43ms/step - loss: 1.8033 - tp: 155.0000 - fp: 60.0000 - tn: 2191.0000 - fn: 298.0000 - accuracy: 0.8676 - precision: 0.7209 - recall: 0.3422 - auc: 0.7978 - prc: 0.5634 - val_loss: 1.7177 - val_tp: 8.0000 - val_fp: 0.0000e+00 - val_tn: 261.0000 - val_fn: 32.0000 - val_accuracy: 0.8937 - val_precision: 1.0000 - val_recall: 0.2000 - val_auc: 0.7555 - val_prc: 0.4643 - lr: 1.0000e-04\n",
            "Epoch 18/100\n",
            "271/271 [==============================] - 12s 43ms/step - loss: 1.7010 - tp: 137.0000 - fp: 59.0000 - tn: 2192.0000 - fn: 316.0000 - accuracy: 0.8613 - precision: 0.6990 - recall: 0.3024 - auc: 0.7862 - prc: 0.5473 - val_loss: 1.6046 - val_tp: 10.0000 - val_fp: 0.0000e+00 - val_tn: 261.0000 - val_fn: 30.0000 - val_accuracy: 0.9003 - val_precision: 1.0000 - val_recall: 0.2500 - val_auc: 0.7657 - val_prc: 0.4858 - lr: 1.0000e-04\n",
            "Epoch 19/100\n",
            "271/271 [==============================] - 12s 43ms/step - loss: 1.5962 - tp: 130.0000 - fp: 44.0000 - tn: 2207.0000 - fn: 323.0000 - accuracy: 0.8643 - precision: 0.7471 - recall: 0.2870 - auc: 0.7955 - prc: 0.5604 - val_loss: 1.4992 - val_tp: 12.0000 - val_fp: 6.0000 - val_tn: 255.0000 - val_fn: 28.0000 - val_accuracy: 0.8870 - val_precision: 0.6667 - val_recall: 0.3000 - val_auc: 0.8170 - val_prc: 0.5613 - lr: 1.0000e-04\n",
            "Epoch 20/100\n",
            "271/271 [==============================] - 12s 43ms/step - loss: 1.5030 - tp: 151.0000 - fp: 57.0000 - tn: 2194.0000 - fn: 302.0000 - accuracy: 0.8672 - precision: 0.7260 - recall: 0.3333 - auc: 0.8064 - prc: 0.5572 - val_loss: 1.4353 - val_tp: 9.0000 - val_fp: 0.0000e+00 - val_tn: 261.0000 - val_fn: 31.0000 - val_accuracy: 0.8970 - val_precision: 1.0000 - val_recall: 0.2250 - val_auc: 0.7675 - val_prc: 0.4849 - lr: 1.0000e-04\n",
            "Epoch 21/100\n",
            "271/271 [==============================] - 12s 43ms/step - loss: 1.4299 - tp: 135.0000 - fp: 43.0000 - tn: 2208.0000 - fn: 318.0000 - accuracy: 0.8665 - precision: 0.7584 - recall: 0.2980 - auc: 0.7948 - prc: 0.5479 - val_loss: 1.3437 - val_tp: 10.0000 - val_fp: 1.0000 - val_tn: 260.0000 - val_fn: 30.0000 - val_accuracy: 0.8970 - val_precision: 0.9091 - val_recall: 0.2500 - val_auc: 0.8022 - val_prc: 0.5242 - lr: 1.0000e-04\n",
            "Epoch 22/100\n",
            "271/271 [==============================] - 12s 43ms/step - loss: 1.3428 - tp: 165.0000 - fp: 53.0000 - tn: 2198.0000 - fn: 288.0000 - accuracy: 0.8739 - precision: 0.7569 - recall: 0.3642 - auc: 0.8121 - prc: 0.5927 - val_loss: 1.2818 - val_tp: 8.0000 - val_fp: 1.0000 - val_tn: 260.0000 - val_fn: 32.0000 - val_accuracy: 0.8904 - val_precision: 0.8889 - val_recall: 0.2000 - val_auc: 0.7811 - val_prc: 0.4978 - lr: 1.0000e-04\n",
            "Epoch 23/100\n",
            "271/271 [==============================] - 12s 43ms/step - loss: 1.2732 - tp: 164.0000 - fp: 40.0000 - tn: 2211.0000 - fn: 289.0000 - accuracy: 0.8783 - precision: 0.8039 - recall: 0.3620 - auc: 0.8166 - prc: 0.6018 - val_loss: 1.2150 - val_tp: 16.0000 - val_fp: 12.0000 - val_tn: 249.0000 - val_fn: 24.0000 - val_accuracy: 0.8804 - val_precision: 0.5714 - val_recall: 0.4000 - val_auc: 0.8103 - val_prc: 0.5636 - lr: 1.0000e-04\n",
            "Epoch 24/100\n",
            "271/271 [==============================] - 12s 43ms/step - loss: 1.2172 - tp: 162.0000 - fp: 52.0000 - tn: 2199.0000 - fn: 291.0000 - accuracy: 0.8732 - precision: 0.7570 - recall: 0.3576 - auc: 0.8234 - prc: 0.5983 - val_loss: 1.1693 - val_tp: 14.0000 - val_fp: 5.0000 - val_tn: 256.0000 - val_fn: 26.0000 - val_accuracy: 0.8970 - val_precision: 0.7368 - val_recall: 0.3500 - val_auc: 0.7889 - val_prc: 0.5432 - lr: 1.0000e-04\n",
            "Epoch 25/100\n",
            "271/271 [==============================] - 12s 43ms/step - loss: 1.1725 - tp: 168.0000 - fp: 56.0000 - tn: 2195.0000 - fn: 285.0000 - accuracy: 0.8739 - precision: 0.7500 - recall: 0.3709 - auc: 0.8105 - prc: 0.5991 - val_loss: 1.1143 - val_tp: 17.0000 - val_fp: 9.0000 - val_tn: 252.0000 - val_fn: 23.0000 - val_accuracy: 0.8937 - val_precision: 0.6538 - val_recall: 0.4250 - val_auc: 0.8084 - val_prc: 0.5618 - lr: 1.0000e-04\n",
            "Epoch 26/100\n",
            "271/271 [==============================] - 12s 43ms/step - loss: 1.1189 - tp: 184.0000 - fp: 57.0000 - tn: 2194.0000 - fn: 269.0000 - accuracy: 0.8794 - precision: 0.7635 - recall: 0.4062 - auc: 0.8197 - prc: 0.6158 - val_loss: 1.1417 - val_tp: 21.0000 - val_fp: 21.0000 - val_tn: 240.0000 - val_fn: 19.0000 - val_accuracy: 0.8671 - val_precision: 0.5000 - val_recall: 0.5250 - val_auc: 0.8318 - val_prc: 0.5372 - lr: 1.0000e-04\n",
            "Epoch 27/100\n",
            "271/271 [==============================] - 12s 43ms/step - loss: 1.0638 - tp: 185.0000 - fp: 38.0000 - tn: 2213.0000 - fn: 268.0000 - accuracy: 0.8868 - precision: 0.8296 - recall: 0.4084 - auc: 0.8333 - prc: 0.6489 - val_loss: 1.0350 - val_tp: 14.0000 - val_fp: 5.0000 - val_tn: 256.0000 - val_fn: 26.0000 - val_accuracy: 0.8970 - val_precision: 0.7368 - val_recall: 0.3500 - val_auc: 0.7767 - val_prc: 0.5271 - lr: 1.0000e-04\n",
            "Epoch 28/100\n",
            "271/271 [==============================] - 12s 43ms/step - loss: 1.0340 - tp: 194.0000 - fp: 48.0000 - tn: 2203.0000 - fn: 259.0000 - accuracy: 0.8865 - precision: 0.8017 - recall: 0.4283 - auc: 0.8248 - prc: 0.6363 - val_loss: 1.0075 - val_tp: 8.0000 - val_fp: 0.0000e+00 - val_tn: 261.0000 - val_fn: 32.0000 - val_accuracy: 0.8937 - val_precision: 1.0000 - val_recall: 0.2000 - val_auc: 0.7716 - val_prc: 0.4901 - lr: 1.0000e-04\n",
            "Epoch 29/100\n",
            "271/271 [==============================] - 12s 43ms/step - loss: 0.9826 - tp: 196.0000 - fp: 46.0000 - tn: 2205.0000 - fn: 257.0000 - accuracy: 0.8879 - precision: 0.8099 - recall: 0.4327 - auc: 0.8499 - prc: 0.6746 - val_loss: 0.9783 - val_tp: 9.0000 - val_fp: 1.0000 - val_tn: 260.0000 - val_fn: 31.0000 - val_accuracy: 0.8937 - val_precision: 0.9000 - val_recall: 0.2250 - val_auc: 0.7889 - val_prc: 0.5364 - lr: 1.0000e-04\n",
            "Epoch 30/100\n",
            "271/271 [==============================] - 12s 43ms/step - loss: 0.9561 - tp: 199.0000 - fp: 47.0000 - tn: 2204.0000 - fn: 254.0000 - accuracy: 0.8887 - precision: 0.8089 - recall: 0.4393 - auc: 0.8399 - prc: 0.6667 - val_loss: 0.9224 - val_tp: 12.0000 - val_fp: 2.0000 - val_tn: 259.0000 - val_fn: 28.0000 - val_accuracy: 0.9003 - val_precision: 0.8571 - val_recall: 0.3000 - val_auc: 0.8083 - val_prc: 0.5543 - lr: 1.0000e-04\n",
            "Epoch 31/100\n",
            "271/271 [==============================] - 12s 43ms/step - loss: 0.9321 - tp: 194.0000 - fp: 59.0000 - tn: 2192.0000 - fn: 259.0000 - accuracy: 0.8824 - precision: 0.7668 - recall: 0.4283 - auc: 0.8403 - prc: 0.6513 - val_loss: 0.9095 - val_tp: 12.0000 - val_fp: 2.0000 - val_tn: 259.0000 - val_fn: 28.0000 - val_accuracy: 0.9003 - val_precision: 0.8571 - val_recall: 0.3000 - val_auc: 0.7992 - val_prc: 0.5520 - lr: 1.0000e-04\n",
            "Epoch 32/100\n",
            "271/271 [==============================] - 12s 43ms/step - loss: 0.8886 - tp: 207.0000 - fp: 44.0000 - tn: 2207.0000 - fn: 246.0000 - accuracy: 0.8928 - precision: 0.8247 - recall: 0.4570 - auc: 0.8587 - prc: 0.6882 - val_loss: 0.9378 - val_tp: 20.0000 - val_fp: 19.0000 - val_tn: 242.0000 - val_fn: 20.0000 - val_accuracy: 0.8704 - val_precision: 0.5128 - val_recall: 0.5000 - val_auc: 0.8236 - val_prc: 0.5590 - lr: 1.0000e-04\n",
            "Epoch 33/100\n",
            "271/271 [==============================] - 12s 43ms/step - loss: 0.8533 - tp: 218.0000 - fp: 47.0000 - tn: 2204.0000 - fn: 235.0000 - accuracy: 0.8957 - precision: 0.8226 - recall: 0.4812 - auc: 0.8672 - prc: 0.7110 - val_loss: 0.8580 - val_tp: 15.0000 - val_fp: 4.0000 - val_tn: 257.0000 - val_fn: 25.0000 - val_accuracy: 0.9037 - val_precision: 0.7895 - val_recall: 0.3750 - val_auc: 0.7938 - val_prc: 0.5638 - lr: 1.0000e-04\n",
            "Epoch 34/100\n",
            "271/271 [==============================] - 12s 43ms/step - loss: 0.8406 - tp: 228.0000 - fp: 46.0000 - tn: 2205.0000 - fn: 225.0000 - accuracy: 0.8998 - precision: 0.8321 - recall: 0.5033 - auc: 0.8620 - prc: 0.7037 - val_loss: 0.8683 - val_tp: 16.0000 - val_fp: 6.0000 - val_tn: 255.0000 - val_fn: 24.0000 - val_accuracy: 0.9003 - val_precision: 0.7273 - val_recall: 0.4000 - val_auc: 0.7886 - val_prc: 0.5396 - lr: 1.0000e-04\n",
            "Epoch 35/100\n",
            "271/271 [==============================] - 12s 43ms/step - loss: 0.8184 - tp: 218.0000 - fp: 41.0000 - tn: 2210.0000 - fn: 235.0000 - accuracy: 0.8979 - precision: 0.8417 - recall: 0.4812 - auc: 0.8611 - prc: 0.7060 - val_loss: 0.8369 - val_tp: 17.0000 - val_fp: 5.0000 - val_tn: 256.0000 - val_fn: 23.0000 - val_accuracy: 0.9070 - val_precision: 0.7727 - val_recall: 0.4250 - val_auc: 0.7660 - val_prc: 0.5409 - lr: 1.0000e-04\n",
            "Epoch 36/100\n",
            "271/271 [==============================] - 12s 43ms/step - loss: 0.7904 - tp: 227.0000 - fp: 46.0000 - tn: 2205.0000 - fn: 226.0000 - accuracy: 0.8994 - precision: 0.8315 - recall: 0.5011 - auc: 0.8745 - prc: 0.7297 - val_loss: 0.8498 - val_tp: 12.0000 - val_fp: 2.0000 - val_tn: 259.0000 - val_fn: 28.0000 - val_accuracy: 0.9003 - val_precision: 0.8571 - val_recall: 0.3000 - val_auc: 0.7583 - val_prc: 0.5393 - lr: 1.0000e-04\n",
            "Epoch 37/100\n",
            "271/271 [==============================] - 12s 43ms/step - loss: 0.7750 - tp: 229.0000 - fp: 44.0000 - tn: 2207.0000 - fn: 224.0000 - accuracy: 0.9009 - precision: 0.8388 - recall: 0.5055 - auc: 0.8834 - prc: 0.7270 - val_loss: 0.8513 - val_tp: 19.0000 - val_fp: 20.0000 - val_tn: 241.0000 - val_fn: 21.0000 - val_accuracy: 0.8638 - val_precision: 0.4872 - val_recall: 0.4750 - val_auc: 0.8104 - val_prc: 0.5804 - lr: 1.0000e-04\n",
            "Epoch 38/100\n",
            "271/271 [==============================] - 12s 43ms/step - loss: 0.7470 - tp: 237.0000 - fp: 41.0000 - tn: 2210.0000 - fn: 216.0000 - accuracy: 0.9050 - precision: 0.8525 - recall: 0.5232 - auc: 0.8886 - prc: 0.7521 - val_loss: 0.7958 - val_tp: 16.0000 - val_fp: 11.0000 - val_tn: 250.0000 - val_fn: 24.0000 - val_accuracy: 0.8837 - val_precision: 0.5926 - val_recall: 0.4000 - val_auc: 0.8008 - val_prc: 0.5499 - lr: 1.0000e-04\n",
            "Epoch 39/100\n",
            "271/271 [==============================] - 12s 43ms/step - loss: 0.7322 - tp: 239.0000 - fp: 40.0000 - tn: 2211.0000 - fn: 214.0000 - accuracy: 0.9061 - precision: 0.8566 - recall: 0.5276 - auc: 0.8924 - prc: 0.7557 - val_loss: 0.7985 - val_tp: 18.0000 - val_fp: 6.0000 - val_tn: 255.0000 - val_fn: 22.0000 - val_accuracy: 0.9070 - val_precision: 0.7500 - val_recall: 0.4500 - val_auc: 0.7896 - val_prc: 0.5749 - lr: 1.0000e-04\n",
            "Epoch 40/100\n",
            "271/271 [==============================] - 12s 43ms/step - loss: 0.7239 - tp: 241.0000 - fp: 59.0000 - tn: 2192.0000 - fn: 212.0000 - accuracy: 0.8998 - precision: 0.8033 - recall: 0.5320 - auc: 0.8965 - prc: 0.7525 - val_loss: 0.7921 - val_tp: 11.0000 - val_fp: 1.0000 - val_tn: 260.0000 - val_fn: 29.0000 - val_accuracy: 0.9003 - val_precision: 0.9167 - val_recall: 0.2750 - val_auc: 0.7822 - val_prc: 0.5251 - lr: 1.0000e-04\n",
            "Epoch 41/100\n",
            "271/271 [==============================] - 12s 43ms/step - loss: 0.7053 - tp: 244.0000 - fp: 48.0000 - tn: 2203.0000 - fn: 209.0000 - accuracy: 0.9050 - precision: 0.8356 - recall: 0.5386 - auc: 0.9014 - prc: 0.7636 - val_loss: 0.7428 - val_tp: 15.0000 - val_fp: 2.0000 - val_tn: 259.0000 - val_fn: 25.0000 - val_accuracy: 0.9103 - val_precision: 0.8824 - val_recall: 0.3750 - val_auc: 0.7928 - val_prc: 0.5624 - lr: 1.0000e-04\n",
            "Epoch 42/100\n",
            "271/271 [==============================] - 12s 43ms/step - loss: 0.6817 - tp: 256.0000 - fp: 48.0000 - tn: 2203.0000 - fn: 197.0000 - accuracy: 0.9094 - precision: 0.8421 - recall: 0.5651 - auc: 0.9101 - prc: 0.7864 - val_loss: 0.8639 - val_tp: 24.0000 - val_fp: 42.0000 - val_tn: 219.0000 - val_fn: 16.0000 - val_accuracy: 0.8073 - val_precision: 0.3636 - val_recall: 0.6000 - val_auc: 0.8278 - val_prc: 0.5570 - lr: 1.0000e-04\n",
            "Epoch 43/100\n",
            "271/271 [==============================] - 12s 43ms/step - loss: 0.6643 - tp: 261.0000 - fp: 48.0000 - tn: 2203.0000 - fn: 192.0000 - accuracy: 0.9112 - precision: 0.8447 - recall: 0.5762 - auc: 0.9158 - prc: 0.7998 - val_loss: 0.7998 - val_tp: 15.0000 - val_fp: 5.0000 - val_tn: 256.0000 - val_fn: 25.0000 - val_accuracy: 0.9003 - val_precision: 0.7500 - val_recall: 0.3750 - val_auc: 0.7858 - val_prc: 0.5308 - lr: 1.0000e-04\n",
            "Epoch 44/100\n",
            "271/271 [==============================] - 12s 43ms/step - loss: 0.6647 - tp: 264.0000 - fp: 43.0000 - tn: 2208.0000 - fn: 189.0000 - accuracy: 0.9142 - precision: 0.8599 - recall: 0.5828 - auc: 0.9087 - prc: 0.7903 - val_loss: 0.8391 - val_tp: 22.0000 - val_fp: 31.0000 - val_tn: 230.0000 - val_fn: 18.0000 - val_accuracy: 0.8372 - val_precision: 0.4151 - val_recall: 0.5500 - val_auc: 0.8245 - val_prc: 0.5557 - lr: 1.0000e-04\n",
            "Epoch 45/100\n",
            "271/271 [==============================] - 12s 43ms/step - loss: 0.6147 - tp: 286.0000 - fp: 34.0000 - tn: 2217.0000 - fn: 167.0000 - accuracy: 0.9257 - precision: 0.8938 - recall: 0.6313 - auc: 0.9454 - prc: 0.8593 - val_loss: 0.7545 - val_tp: 20.0000 - val_fp: 13.0000 - val_tn: 248.0000 - val_fn: 20.0000 - val_accuracy: 0.8904 - val_precision: 0.6061 - val_recall: 0.5000 - val_auc: 0.8079 - val_prc: 0.5438 - lr: 1.0000e-05\n"
          ]
        }
      ]
    },
    {
      "cell_type": "markdown",
      "source": [
        "# Evaluate the model "
      ],
      "metadata": {
        "id": "5hF9EG1dX6xZ"
      }
    },
    {
      "cell_type": "code",
      "source": [
        "y_pred  = model.predict(X_test_reshaped)\n",
        "y_pred = (y_pred>0.5)\n",
        "cm = confusion_matrix(y_test_ciprofloxacin, y_pred)\n",
        "print(cm)"
      ],
      "metadata": {
        "colab": {
          "base_uri": "https://localhost:8080/"
        },
        "id": "ux5k-LYLl3GF",
        "outputId": "e1e9b117-dc61-4958-d858-b066d09d7c85"
      },
      "execution_count": null,
      "outputs": [
        {
          "output_type": "stream",
          "name": "stdout",
          "text": [
            "24/24 [==============================] - 1s 24ms/step\n",
            "[[619  10]\n",
            " [ 83  40]]\n"
          ]
        }
      ]
    },
    {
      "cell_type": "code",
      "source": [
        "#print(\"MCC s_aureus ciprofloxacin:\",matthews_corrcoef(y_test_ciprofloxacin, y_pred))\n",
        "\n",
        "target_names=[\"0\",\"1\"]\n",
        "print(classification_report(y_test_ciprofloxacin, y_pred, target_names=target_names))\n",
        "\n",
        "train_predictions_baseline = model.predict(X_train_reshaped, batch_size=10)\n",
        "test_predictions_baseline = model.predict(X_test_reshaped, batch_size=10)\n",
        "\n",
        "baseline_results = model.evaluate(X_test_reshaped, y_test_ciprofloxacin, verbose=0)\n",
        "for name, value in zip(model.metrics_names, baseline_results):\n",
        "  print(name, ': ', value)\n",
        "print()"
      ],
      "metadata": {
        "colab": {
          "base_uri": "https://localhost:8080/"
        },
        "id": "zkQ55Zm7l3D2",
        "outputId": "070b5210-2a96-4919-dd17-705b4e401b50"
      },
      "execution_count": null,
      "outputs": [
        {
          "output_type": "stream",
          "name": "stdout",
          "text": [
            "              precision    recall  f1-score   support\n",
            "\n",
            "           0       0.88      0.98      0.93       629\n",
            "           1       0.80      0.33      0.46       123\n",
            "\n",
            "    accuracy                           0.88       752\n",
            "   macro avg       0.84      0.65      0.70       752\n",
            "weighted avg       0.87      0.88      0.85       752\n",
            "\n",
            "301/301 [==============================] - 2s 8ms/step\n",
            "76/76 [==============================] - 1s 8ms/step\n",
            "loss :  0.7742421627044678\n",
            "tp :  40.0\n",
            "fp :  10.0\n",
            "tn :  619.0\n",
            "fn :  83.0\n",
            "accuracy :  0.876329779624939\n",
            "precision :  0.800000011920929\n",
            "recall :  0.3252032399177551\n",
            "auc :  0.8212222456932068\n",
            "prc :  0.6316238641738892\n",
            "\n"
          ]
        }
      ]
    },
    {
      "cell_type": "code",
      "source": [
        "mpl.rcParams['figure.figsize'] = (12, 10)\n",
        "mpl.rcParams.update({'font.size': 17})\n",
        "colors = plt.rcParams['axes.prop_cycle'].by_key()['color']\n",
        "\n",
        "def plot_roc(name, labels, predictions, **kwargs):\n",
        "  fp, tp, _ = sklearn.metrics.roc_curve(labels, predictions)\n",
        "\n",
        "  plt.plot(fp, tp, label=name, linewidth=2, **kwargs)\n",
        "  plt.plot([0, 1], [0, 1], 'k--')\n",
        "  plt.title('E. coli CNN')\n",
        "  plt.xlabel('False positives [%]')\n",
        "  plt.ylabel('True positives [%]')\n",
        "  plt.title('S. aureus AUROC')\n",
        "\n",
        "  plt.grid(True)\n",
        "  ax = plt.gca()\n",
        "  ax.set_aspect('equal')\n",
        "plot_roc(\"Ciprofloxacin               AUROC: %0.2f\" % baseline_results[8], y_test, test_predictions_baseline, color=colors[0])\n",
        "\n",
        "plt.legend(loc='lower right')\n",
        "plt.savefig('s_aureus_auroc.png', bbox_inches='tight')\n",
        "plt.show()\n",
        "\n",
        "def plot_prc(name, labels, predictions, **kwargs):\n",
        "    precision, recall, _ = sklearn.metrics.precision_recall_curve(labels, predictions)\n",
        "\n",
        "    plt.plot(precision, recall, label=name, linewidth=2, **kwargs)\n",
        "    plt.title('S. aureus AUPRC')\n",
        "    plt.xlabel('Recall')\n",
        "    plt.ylabel('Precision')\n",
        "    plt.plot([1, 0], [0, 1], 'k--')\n",
        "    plt.grid(True)\n",
        "    ax = plt.gca()\n",
        "    ax.set_aspect('equal')\n",
        "\n",
        "plot_prc(\"Ciprofloxacin        AUPRC: %0.2f\" % baseline_results[9], y_test, test_predictions_baseline, color=colors[0])\n",
        "\n",
        "plt.legend(loc='upper right')\n",
        "plt.savefig('s_aureus_auprc.png', bbox_inches='tight')\n",
        "plt.show()"
      ],
      "metadata": {
        "colab": {
          "base_uri": "https://localhost:8080/",
          "height": 1000
        },
        "id": "YzVQLd_Xl3B1",
        "outputId": "8e22938f-797d-43eb-a9d1-f56f977175d7"
      },
      "execution_count": null,
      "outputs": [
        {
          "output_type": "display_data",
          "data": {
            "text/plain": [
              "<Figure size 864x720 with 1 Axes>"
            ],
            "image/png": "[encoded data removed]"
          },
          "metadata": {
            "needs_background": "light"
          }
        },
        {
          "output_type": "display_data",
          "data": {
            "text/plain": [
              "<Figure size 864x720 with 1 Axes>"
            ],
            "image/png": "[encoded data removed]"
          },
          "metadata": {
            "needs_background": "light"
          }
        }
      ]
    },
    {
      "cell_type": "code",
      "source": [
        "#"
      ],
      "metadata": {
        "id": "lWm6dwYqpQtt"
      },
      "execution_count": null,
      "outputs": []
    }
  ]
}